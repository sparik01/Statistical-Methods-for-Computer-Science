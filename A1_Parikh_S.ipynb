{
 "cells": [
  {
   "cell_type": "markdown",
   "metadata": {},
   "source": [
    "# R Coding Assignment \\#1: Combinatorial Analysis"
   ]
  },
  {
   "cell_type": "markdown",
   "metadata": {},
   "source": [
    "### Sheetal Parikh\n",
    "EN.605.631.81<br>\n",
    "September 6, 2020\n",
    "***\n",
    "***"
   ]
  },
  {
   "cell_type": "markdown",
   "metadata": {},
   "source": [
    "## Problem 1\n",
    "Use R code to determine the number of different batting orders are possible for a baseball team consisting of 9 players."
   ]
  },
  {
   "cell_type": "markdown",
   "metadata": {},
   "source": [
    "The number of different batting orders for 9 players is equal to 9! = 362,880 different orders:"
   ]
  },
  {
   "cell_type": "code",
   "execution_count": 1,
   "metadata": {},
   "outputs": [
    {
     "data": {
      "text/html": [
       "362880"
      ],
      "text/latex": [
       "362880"
      ],
      "text/markdown": [
       "362880"
      ],
      "text/plain": [
       "[1] 362880"
      ]
     },
     "metadata": {},
     "output_type": "display_data"
    }
   ],
   "source": [
    "#factorial function\n",
    "fctrl <- function(x) {\n",
    "    if (x <= 1) {\n",
    "        return(1)\n",
    "    } else {\n",
    "        return(x * fctrl(x-1))\n",
    "    }\n",
    "}\n",
    "\n",
    "fctrl(9)"
   ]
  },
  {
   "cell_type": "markdown",
   "metadata": {},
   "source": [
    "## Problem 2\n",
    "From a group of 5 women and 7 men, use R to count the number of different committees consisting of 2 women and 3 men can be formed. What if 2 of the men are feuding and refuse to serve on the committee together?"
   ]
  },
  {
   "cell_type": "markdown",
   "metadata": {},
   "source": [
    "a) The number of different committees of 2 women and 3 men = C(5,2) x C(7,3) = 10 x 35 = 350 different committees:"
   ]
  },
  {
   "cell_type": "code",
   "execution_count": 2,
   "metadata": {},
   "outputs": [
    {
     "data": {
      "text/html": [
       "350"
      ],
      "text/latex": [
       "350"
      ],
      "text/markdown": [
       "350"
      ],
      "text/plain": [
       "[1] 350"
      ]
     },
     "metadata": {},
     "output_type": "display_data"
    }
   ],
   "source": [
    "# built-in formula choose can be used for calculating combinations since no replacement\n",
    "choose(5,2) * choose(7,3)"
   ]
  },
  {
   "cell_type": "markdown",
   "metadata": {},
   "source": [
    "b) For the number of different committees of 2 women and 3 men, if 2 men refuse to serve the committee together,  \n",
    "the women remain the same at 10. For the men, you have to subtract the number of ways to choose 3 men from a group of 7 men, if two men always serve the committee together (C(2,2) x C(5,1)), from the total number of ways to choose 3 men from the group of 7 men(C(7,3)):"
   ]
  },
  {
   "cell_type": "code",
   "execution_count": 3,
   "metadata": {},
   "outputs": [
    {
     "data": {
      "text/html": [
       "300"
      ],
      "text/latex": [
       "300"
      ],
      "text/markdown": [
       "300"
      ],
      "text/plain": [
       "[1] 300"
      ]
     },
     "metadata": {},
     "output_type": "display_data"
    }
   ],
   "source": [
    "choose(5,2) * (choose(7,3) - (choose(2,2) * choose(5,1)))"
   ]
  },
  {
   "cell_type": "markdown",
   "metadata": {},
   "source": [
    "## Problem 3\n",
    "In a certain community, there are 3 families consisting of a single parent and 1 child, 3 families consisting of a single parent and 2 children, 5 families consisting of 2 parents and a single child, 7 families consisting of 2 parents and 2 children, and 6 families consisting of 2 parents and 3 children. If a parent and child from the same family are to be chosen, how many possible choices are there?"
   ]
  },
  {
   "cell_type": "markdown",
   "metadata": {},
   "source": [
    "There are 5 different types of familes. We can calculate the the number of choices for each type of family and add them all together for the total number of choices to get 83 choices:"
   ]
  },
  {
   "cell_type": "code",
   "execution_count": 4,
   "metadata": {},
   "outputs": [
    {
     "data": {
      "text/html": [
       "83"
      ],
      "text/latex": [
       "83"
      ],
      "text/markdown": [
       "83"
      ],
      "text/plain": [
       "[1] 83"
      ]
     },
     "metadata": {},
     "output_type": "display_data"
    }
   ],
   "source": [
    "# 3 families: 1 parent and 1 child\n",
    "f1 <- 3 * 1 * 1\n",
    "\n",
    "# 3 families: 1 parent and 2 children\n",
    "f2 <- 3 * 1 * 2\n",
    "\n",
    "# 5 families: 2 parents and 1 child\n",
    "f3 <- 5 * 2 * 1\n",
    "\n",
    "# 7 families: 2 parents and 2 children\n",
    "f4 <- 7 * 2 * 2\n",
    "\n",
    "# 6 families: 2 parents and 3 children\n",
    "f5 <- 6 * 2 * 3\n",
    "\n",
    "f1 + f2 + f3 + f4 + f5"
   ]
  }
 ],
 "metadata": {
  "kernelspec": {
   "display_name": "R",
   "language": "R",
   "name": "ir"
  },
  "language_info": {
   "codemirror_mode": "r",
   "file_extension": ".r",
   "mimetype": "text/x-r-source",
   "name": "R",
   "pygments_lexer": "r",
   "version": "3.6.1"
  }
 },
 "nbformat": 4,
 "nbformat_minor": 4
}
