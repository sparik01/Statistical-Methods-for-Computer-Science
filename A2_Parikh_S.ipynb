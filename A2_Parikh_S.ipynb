{
 "cells": [
  {
   "cell_type": "markdown",
   "metadata": {},
   "source": [
    "# R Coding Assignment #2: Probability"
   ]
  },
  {
   "cell_type": "markdown",
   "metadata": {},
   "source": [
    "### Sheetal Parikh\n",
    "EN.605.631.81<br>\n",
    "September 13, 2020\n",
    "***\n",
    "***"
   ]
  },
  {
   "cell_type": "markdown",
   "metadata": {},
   "source": [
    "## Problem 1\n",
    "Sixty percent of the students at a certain school wear neither a ring nor a necklace. Twenty percent wear a ring and 30 percent wear a necklace. If one of the students is chosen randomly, what is the probability that this student is wearing (a) a ring or a necklace? (b) a ring and a necklace?"
   ]
  },
  {
   "cell_type": "markdown",
   "metadata": {},
   "source": [
    "a) Probability a student is wearing a ring or a necklace:"
   ]
  },
  {
   "cell_type": "markdown",
   "metadata": {},
   "source": [
    "We are given that the probability the students wear neither ring nor necklace = 0.60. The probability that the students wear neither a ring or nor a necklace is the complement of the probability that students wear a ring or a necklace.  This can be represented by, (R U N)^c = 0.60, where R is the probability that students wear a ring and N is the probability that a students wear a necklace.  Therefore, we can find the probability that a student wears a ring or a necklace, P(R U N), by subtracting (R U N)^c from 1 to get, P(R U N) = 0.40."
   ]
  },
  {
   "cell_type": "code",
   "execution_count": 80,
   "metadata": {},
   "outputs": [
    {
     "data": {
      "text/html": [
       "0.4"
      ],
      "text/latex": [
       "0.4"
      ],
      "text/markdown": [
       "0.4"
      ],
      "text/plain": [
       "[1] 0.4"
      ]
     },
     "metadata": {},
     "output_type": "display_data"
    }
   ],
   "source": [
    "# complement of P(R U N) which which we are given is 0.60\n",
    "c_RorN <- 0.60\n",
    "\n",
    "#finding P(R U N) = 0.40\n",
    "RorN <- 1 - c_RorN\n",
    "RorN"
   ]
  },
  {
   "cell_type": "markdown",
   "metadata": {},
   "source": [
    "b) Probability a student is wearing a ring and a necklace:"
   ]
  },
  {
   "cell_type": "markdown",
   "metadata": {},
   "source": [
    "We found in part a that P(R U N) = 0.40 and we were already given that the probability of students wearing a ring is 0.20, P(R) = 0.20, and the probability of students wearing a necklace is 0.30, P(N) = 0.30.  We need to find P(RN) which we can determine by using the formula from proposition 4.3, P(R U N) = P(R) + P(N) - P(RN).  If we plug in the values we have into the formula, 0.4 = 0.20 + 0.30 - P(RN), and solve for P(RN), we will get P(RN) = 0.10.  "
   ]
  },
  {
   "cell_type": "code",
   "execution_count": 81,
   "metadata": {},
   "outputs": [
    {
     "data": {
      "text/html": [
       "0.1"
      ],
      "text/latex": [
       "0.1"
      ],
      "text/markdown": [
       "0.1"
      ],
      "text/plain": [
       "[1] 0.1"
      ]
     },
     "metadata": {},
     "output_type": "display_data"
    }
   ],
   "source": [
    "# probability students wear a necklace\n",
    "N <- 0.30\n",
    "\n",
    "#probability students wer a ring\n",
    "R <- 0.20\n",
    "\n",
    "#probability that students wear a ring and a necklace = 0.10\n",
    "\n",
    "RN <- N + R - RorN\n",
    "RN"
   ]
  },
  {
   "cell_type": "markdown",
   "metadata": {},
   "source": [
    "## Problem 2\n",
    "A certain town with a population of 100,000 has 3 newspapers: I, II, and III. The proportions of townspeople who read these papers are as follows:\n",
    "\n",
    "I: 10 percent\n",
    "\n",
    "II: 30 percent \n",
    "\n",
    "III: 5 percent\n",
    "\n",
    "I and II: 8 percent\n",
    "\n",
    "I and III: 2 percent \n",
    "\n",
    "II and III: 4 percent\n",
    "\n",
    "I and II and III: 1 percent\n",
    "\n",
    "(The list tells us, for instance, that 8000 people read newspapers I and II.)\n",
    "\n",
    "(a) Find the number of people who read only one newspaper.\n",
    "\n",
    "(b) How many people read at least two newspapers?\n",
    "\n",
    "(c) If I and III are morning papers and II is an evening paper, how many people read at least one morning paper plus an evening paper?\n",
    "\n",
    "(d) How many people do not read any newspapers?\n",
    "\n",
    "(e) How many people read only one morning paper and one evening paper?"
   ]
  },
  {
   "cell_type": "markdown",
   "metadata": {},
   "source": [
    "To visualize the given information, we can use a Venn Diagram like below to help us with questions a through e.  Each value is per 1,000 people."
   ]
  },
  {
   "cell_type": "code",
   "execution_count": 83,
   "metadata": {},
   "outputs": [
    {
     "data": {
      "text/plain": [
       "(polygon[GRID.polygon.16], polygon[GRID.polygon.17], polygon[GRID.polygon.18], polygon[GRID.polygon.19], polygon[GRID.polygon.20], polygon[GRID.polygon.21], text[GRID.text.22], text[GRID.text.23], text[GRID.text.24], text[GRID.text.25], text[GRID.text.26], text[GRID.text.27], text[GRID.text.28], text[GRID.text.29], text[GRID.text.30]) "
      ]
     },
     "metadata": {},
     "output_type": "display_data"
    },
    {
     "data": {
      "image/png": "[encoded data removed]",
      "text/plain": [
       "plot without title"
      ]
     },
     "metadata": {},
     "output_type": "display_data"
    }
   ],
   "source": [
    "#install.packages('VennDiagram')\n",
    "library(VennDiagram)\n",
    "\n",
    "grid.newpage()\n",
    "draw.triple.venn(area1 = 10, area2 = 30, area3 = 5, n12 = 8, n23 = 4, n13 = 2, n123 = 1, \n",
    "    category = c(\"I\", \"II\", \"III\"), lty = \"blank\",\n",
    "    fill = c(\"steelblue2\", \"orchid\", \"peachpuff1\"),\n",
    "    cex=1, cat.cex=1, cat.fontfamily = rep(\"serif\", 3))"
   ]
  },
  {
   "cell_type": "markdown",
   "metadata": {},
   "source": [
    "a) Number of people read only one newspaper:"
   ]
  },
  {
   "cell_type": "markdown",
   "metadata": {},
   "source": [
    "Using the venn diagram above, the number of people who would ready only 1 newspaper would be the people not included in any overlap of the venn diagram which would be: 1 + 19 = 20, or 20,000 people. We can also find the number of people who read only one newspaper in the manner shown below:"
   ]
  },
  {
   "cell_type": "code",
   "execution_count": 84,
   "metadata": {},
   "outputs": [
    {
     "data": {
      "text/html": [
       "20000"
      ],
      "text/latex": [
       "20000"
      ],
      "text/markdown": [
       "20000"
      ],
      "text/plain": [
       "[1] 20000"
      ]
     },
     "metadata": {},
     "output_type": "display_data"
    }
   ],
   "source": [
    "#Given probabilities and info\n",
    "population <- 100000\n",
    "I <- 0.10\n",
    "II <- 0.30\n",
    "III <- 0.05\n",
    "IandII <- 0.08\n",
    "IandIII <- 0.02\n",
    "IIandIII <- 0.04\n",
    "IandIIandIII <- 0.01\n",
    "\n",
    "#probability of IandIIonly\n",
    "IandIIonly = IandII - IandIIandIII\n",
    "\n",
    "#probability of IandIIIonly\n",
    "IandIIIonly = IandIII - IandIIandIII\n",
    "\n",
    "#probablility of IIandIIIonly\n",
    "IIandIIIonly = IIandIII - IandIIandIII\n",
    "\n",
    "#probability of onlyI\n",
    "onlyI = I - IandIIonly - IandIIandIII - IandIIIonly\n",
    "\n",
    "#probability of only II\n",
    "onlyII = II - IandIIonly - IIandIIIonly - IandIIandIII\n",
    "\n",
    "#probability of only III\n",
    "onlyIII = III - IandIIIonly - IIandIIIonly - IandIIandIII\n",
    "\n",
    "#number of people only I or only II or only III\n",
    "onePaper <- (onlyI + onlyII + onlyIII)*population\n",
    "onePaper"
   ]
  },
  {
   "cell_type": "markdown",
   "metadata": {},
   "source": [
    "b)Number of people read at least two newspapers."
   ]
  },
  {
   "cell_type": "markdown",
   "metadata": {},
   "source": [
    "Using the venn diagram above, the number of people who would read at least 2 newspapers, would be the people only included\n",
    "in the overlapped sections of the venn diagram which would be: 1 + 1 + 3 = 7 = 12 or 12,000 people.We can also find the number of people who do not read newspapers in the manner shown below:  "
   ]
  },
  {
   "cell_type": "code",
   "execution_count": 85,
   "metadata": {},
   "outputs": [
    {
     "data": {
      "text/html": [
       "12000"
      ],
      "text/latex": [
       "12000"
      ],
      "text/markdown": [
       "12000"
      ],
      "text/plain": [
       "[1] 12000"
      ]
     },
     "metadata": {},
     "output_type": "display_data"
    }
   ],
   "source": [
    "#number of people who read at least 2 newspapers\n",
    "(IandIIonly + IandIIIonly + IIandIIIonly + IandIIandIII)*population  "
   ]
  },
  {
   "cell_type": "markdown",
   "metadata": {},
   "source": [
    "c)Number of people who read at least one morning and an evening paper"
   ]
  },
  {
   "cell_type": "markdown",
   "metadata": {},
   "source": [
    "We are given that I and III are morning papers and II is an evening paper. So the problem is asking how many people read papers I and II or III and II or I and III and II.  Using the Venn Diagram we can see the number of people who read I and II are 7, since that is where only I and II intersect.  The number of people who read III and II are 3.  The number of people who read all three newspapers is 1. Therefore, number of people who read at least one morning and an evening paper = 7 + 3 + 1 = 11 or 11,000 people.  We can also find the number of people who read at least one morning and an evening paper in the manner shown below:"
   ]
  },
  {
   "cell_type": "code",
   "execution_count": 86,
   "metadata": {},
   "outputs": [
    {
     "data": {
      "text/html": [
       "11000"
      ],
      "text/latex": [
       "11000"
      ],
      "text/markdown": [
       "11000"
      ],
      "text/plain": [
       "[1] 11000"
      ]
     },
     "metadata": {},
     "output_type": "display_data"
    }
   ],
   "source": [
    "#number of people who read at least one morning and an evening paper\n",
    "(IandIIonly + IIandIIIonly+ IandIIandIII)*population"
   ]
  },
  {
   "cell_type": "markdown",
   "metadata": {},
   "source": [
    "d)Number of people who do not read any newspapers"
   ]
  },
  {
   "cell_type": "markdown",
   "metadata": {},
   "source": [
    "We can count the number of people who read newspapers by adding together everyone included in the Venn Diagram which give us:\n",
    "1 + 1 + 3 + 1 + 7 + 19 = 32.  We know the total number of people in the town is 100.  Therefore, in order to find the number of people who do not read any newspapers we can subtract 32 from 100 to get 68 or 68,000 people.  We can also find the number of people who do not read newspapers in the manner shown below:\n"
   ]
  },
  {
   "cell_type": "code",
   "execution_count": 87,
   "metadata": {},
   "outputs": [
    {
     "data": {
      "text/html": [
       "68000"
      ],
      "text/latex": [
       "68000"
      ],
      "text/markdown": [
       "68000"
      ],
      "text/plain": [
       "[1] 68000"
      ]
     },
     "metadata": {},
     "output_type": "display_data"
    }
   ],
   "source": [
    "#probability of people who read a newspaper:\n",
    "readPaper <- IandIIonly + IandIIIonly + IIandIIIonly + IandIIandIII + onlyI + onlyII + onlyIII\n",
    "\n",
    "#number of people who do not read newspapers\n",
    "(1-readPaper)*population"
   ]
  },
  {
   "cell_type": "markdown",
   "metadata": {},
   "source": [
    "e)Number of people who read one morning paper and one evening paper"
   ]
  },
  {
   "cell_type": "markdown",
   "metadata": {},
   "source": [
    "The number of people who read one morning paper and one evening paper means we need to find the number of people who read I and II or III and II.  We already determined in that the number of people that read I and II is 7 and the number of people that read III and II is 3.  Therefore the number of people who read one morning paper and one evening paper = 7 + 3 = 10 or 10,000 people. We can also find the number of people who read one morning and one evening in the manner shown below:"
   ]
  },
  {
   "cell_type": "code",
   "execution_count": 88,
   "metadata": {},
   "outputs": [
    {
     "data": {
      "text/html": [
       "10000"
      ],
      "text/latex": [
       "10000"
      ],
      "text/markdown": [
       "10000"
      ],
      "text/plain": [
       "[1] 10000"
      ]
     },
     "metadata": {},
     "output_type": "display_data"
    }
   ],
   "source": [
    "#number of people who read one morning and one evening paper\n",
    "(IandIIonly + IIandIIIonly)*population"
   ]
  },
  {
   "cell_type": "markdown",
   "metadata": {},
   "source": [
    "## Problem 3\n",
    " Poker dice is played by simultaneously rolling 5 dice. Show that (a) P{one pair} = .4630 and (b) P{full house} = .0386."
   ]
  },
  {
   "cell_type": "markdown",
   "metadata": {},
   "source": [
    "a)P(onepair) = 0.4630"
   ]
  },
  {
   "cell_type": "markdown",
   "metadata": {},
   "source": [
    "Since we are rolling 5 regular die with 6 different faces, the number of possible outcomes is 6^5.  2 of the of the 5 die will be randomly chosen to match which can be represented by C(5,2) = 10 . Also, 1 of the 6 possible faces will be chosen as the matching number which can be represented by C(6,1)= 6. This will leave C(5,3)= 10 possible ways the other 3 die can be numbered that can be arranged in 3! or 6 possible ways.  Therefore P(onepair) = (10x6x10x6)/6^5 = 0.4630."
   ]
  },
  {
   "cell_type": "code",
   "execution_count": 89,
   "metadata": {},
   "outputs": [
    {
     "data": {
      "text/html": [
       "7776"
      ],
      "text/latex": [
       "7776"
      ],
      "text/markdown": [
       "7776"
      ],
      "text/plain": [
       "[1] 7776"
      ]
     },
     "metadata": {},
     "output_type": "display_data"
    },
    {
     "data": {
      "text/html": [
       "<table>\n",
       "<thead><tr><th scope=col>X1</th><th scope=col>X2</th><th scope=col>X3</th><th scope=col>X4</th><th scope=col>X5</th><th scope=col>probs</th></tr></thead>\n",
       "<tbody>\n",
       "\t<tr><td>1           </td><td>1           </td><td>1           </td><td>1           </td><td>1           </td><td>0.0001286008</td></tr>\n",
       "\t<tr><td>2           </td><td>1           </td><td>1           </td><td>1           </td><td>1           </td><td>0.0001286008</td></tr>\n",
       "\t<tr><td>3           </td><td>1           </td><td>1           </td><td>1           </td><td>1           </td><td>0.0001286008</td></tr>\n",
       "\t<tr><td>4           </td><td>1           </td><td>1           </td><td>1           </td><td>1           </td><td>0.0001286008</td></tr>\n",
       "\t<tr><td>5           </td><td>1           </td><td>1           </td><td>1           </td><td>1           </td><td>0.0001286008</td></tr>\n",
       "\t<tr><td>6           </td><td>1           </td><td>1           </td><td>1           </td><td>1           </td><td>0.0001286008</td></tr>\n",
       "</tbody>\n",
       "</table>\n"
      ],
      "text/latex": [
       "\\begin{tabular}{r|llllll}\n",
       " X1 & X2 & X3 & X4 & X5 & probs\\\\\n",
       "\\hline\n",
       "\t 1            & 1            & 1            & 1            & 1            & 0.0001286008\\\\\n",
       "\t 2            & 1            & 1            & 1            & 1            & 0.0001286008\\\\\n",
       "\t 3            & 1            & 1            & 1            & 1            & 0.0001286008\\\\\n",
       "\t 4            & 1            & 1            & 1            & 1            & 0.0001286008\\\\\n",
       "\t 5            & 1            & 1            & 1            & 1            & 0.0001286008\\\\\n",
       "\t 6            & 1            & 1            & 1            & 1            & 0.0001286008\\\\\n",
       "\\end{tabular}\n"
      ],
      "text/markdown": [
       "\n",
       "| X1 | X2 | X3 | X4 | X5 | probs |\n",
       "|---|---|---|---|---|---|\n",
       "| 1            | 1            | 1            | 1            | 1            | 0.0001286008 |\n",
       "| 2            | 1            | 1            | 1            | 1            | 0.0001286008 |\n",
       "| 3            | 1            | 1            | 1            | 1            | 0.0001286008 |\n",
       "| 4            | 1            | 1            | 1            | 1            | 0.0001286008 |\n",
       "| 5            | 1            | 1            | 1            | 1            | 0.0001286008 |\n",
       "| 6            | 1            | 1            | 1            | 1            | 0.0001286008 |\n",
       "\n"
      ],
      "text/plain": [
       "  X1 X2 X3 X4 X5 probs       \n",
       "1 1  1  1  1  1  0.0001286008\n",
       "2 2  1  1  1  1  0.0001286008\n",
       "3 3  1  1  1  1  0.0001286008\n",
       "4 4  1  1  1  1  0.0001286008\n",
       "5 5  1  1  1  1  0.0001286008\n",
       "6 6  1  1  1  1  0.0001286008"
      ]
     },
     "metadata": {},
     "output_type": "display_data"
    }
   ],
   "source": [
    "#determining sample space\n",
    "S <- rolldie(5, makespace = TRUE);nrow(S);head(S)"
   ]
  },
  {
   "cell_type": "code",
   "execution_count": 96,
   "metadata": {},
   "outputs": [
    {
     "data": {
      "text/html": [
       "10"
      ],
      "text/latex": [
       "10"
      ],
      "text/markdown": [
       "10"
      ],
      "text/plain": [
       "[1] 10"
      ]
     },
     "metadata": {},
     "output_type": "display_data"
    },
    {
     "data": {
      "text/html": [
       "6"
      ],
      "text/latex": [
       "6"
      ],
      "text/markdown": [
       "6"
      ],
      "text/plain": [
       "[1] 6"
      ]
     },
     "metadata": {},
     "output_type": "display_data"
    },
    {
     "data": {
      "text/html": [
       "10"
      ],
      "text/latex": [
       "10"
      ],
      "text/markdown": [
       "10"
      ],
      "text/plain": [
       "[1] 10"
      ]
     },
     "metadata": {},
     "output_type": "display_data"
    },
    {
     "data": {
      "text/html": [
       "6"
      ],
      "text/latex": [
       "6"
      ],
      "text/markdown": [
       "6"
      ],
      "text/plain": [
       "[1] 6"
      ]
     },
     "metadata": {},
     "output_type": "display_data"
    },
    {
     "data": {
      "text/html": [
       "0.46296"
      ],
      "text/latex": [
       "0.46296"
      ],
      "text/markdown": [
       "0.46296"
      ],
      "text/plain": [
       "[1] 0.46296"
      ]
     },
     "metadata": {},
     "output_type": "display_data"
    }
   ],
   "source": [
    "#determining the number of ways for one pair\n",
    "\n",
    "#factorial function\n",
    "fctrl <- function(x) {\n",
    "    if (x <= 1) {\n",
    "        return(1)\n",
    "    } else {\n",
    "        return(x * fctrl(x-1))\n",
    "    }\n",
    "}\n",
    "\n",
    "#choosing 2 of 5 die\n",
    "choose(5,2)\n",
    "\n",
    "#choosing matching number\n",
    "choose(6,1)\n",
    "\n",
    "#how other 3 die can be numbered\n",
    "choose(5,3)\n",
    "\n",
    "#how unmatching 3 die can be arranged\n",
    "fctrl(3)\n",
    "\n",
    "onepair <-((choose(5,2))*(choose(6,1))*(choose(5,3))*fctrl(3))/nrow(S)\n",
    "round(onepair, digits = 5)"
   ]
  },
  {
   "cell_type": "markdown",
   "metadata": {},
   "source": [
    "b)P(fullhouse) = 0.0386"
   ]
  },
  {
   "cell_type": "markdown",
   "metadata": {},
   "source": [
    "For poker dice, a full house is when you roll 5 die simulataneously and get 3 of the same number and 2 of another number.  \n",
    "As mentioned in part a, we already calculated that there are 6^5 possible outcomes.  When determining the \n",
    "number of ways to get a full house, we can say that there are 6 possible numbers that we can have in the pair and subsequently 5 possible numbers that we can have in the group of 3.  Therefore we would have 6 x 5 = 30 ways to have the numbers in the full house. The number of ways we could arrange the full house would be (5!/2!x3!) = 10, since we have 5 numbers in which 3 are the same and 2 are the same. Therefore the P(fullhouse) = (30x10)/6^5 = 0.0386."
   ]
  },
  {
   "cell_type": "code",
   "execution_count": 97,
   "metadata": {},
   "outputs": [
    {
     "data": {
      "text/html": [
       "10"
      ],
      "text/latex": [
       "10"
      ],
      "text/markdown": [
       "10"
      ],
      "text/plain": [
       "[1] 10"
      ]
     },
     "metadata": {},
     "output_type": "display_data"
    },
    {
     "data": {
      "text/html": [
       "6"
      ],
      "text/latex": [
       "6"
      ],
      "text/markdown": [
       "6"
      ],
      "text/plain": [
       "[1] 6"
      ]
     },
     "metadata": {},
     "output_type": "display_data"
    },
    {
     "data": {
      "text/html": [
       "5"
      ],
      "text/latex": [
       "5"
      ],
      "text/markdown": [
       "5"
      ],
      "text/plain": [
       "[1] 5"
      ]
     },
     "metadata": {},
     "output_type": "display_data"
    },
    {
     "data": {
      "text/html": [
       "0.03858"
      ],
      "text/latex": [
       "0.03858"
      ],
      "text/markdown": [
       "0.03858"
      ],
      "text/plain": [
       "[1] 0.03858"
      ]
     },
     "metadata": {},
     "output_type": "display_data"
    }
   ],
   "source": [
    "#determining the number of ways for a full house\n",
    "\n",
    "#number of ways arrange full house\n",
    "choose(5,2)\n",
    "\n",
    "#number of ways number in pair can be chosen\n",
    "choose(6,1)\n",
    "\n",
    "#number of ways number in group of 3 can be chosen\n",
    "choose (5,1)\n",
    "\n",
    "fhouse <-(choose(5,2))*(choose(6,1))*(choose(5,1))/nrow(S)\n",
    "round(fhouse, digits = 5)"
   ]
  }
 ],
 "metadata": {
  "kernelspec": {
   "display_name": "R",
   "language": "R",
   "name": "ir"
  },
  "language_info": {
   "codemirror_mode": "r",
   "file_extension": ".r",
   "mimetype": "text/x-r-source",
   "name": "R",
   "pygments_lexer": "r",
   "version": "3.6.1"
  }
 },
 "nbformat": 4,
 "nbformat_minor": 4
}
