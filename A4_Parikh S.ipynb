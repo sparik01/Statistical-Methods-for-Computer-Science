{
 "cells": [
  {
   "cell_type": "markdown",
   "metadata": {},
   "source": [
    "# R Coding Assignment \\#4: Discrete Random Variables"
   ]
  },
  {
   "cell_type": "markdown",
   "metadata": {},
   "source": [
    "### Sheetal Parikh\n",
    "EN.605.631.81<br>\n",
    "September 27, 2020\n",
    "***\n",
    "***"
   ]
  },
  {
   "cell_type": "markdown",
   "metadata": {},
   "source": [
    "## Problem 1\n",
    "A tetrahedron (four-sided die with outcomes 1, 2, 3, 4) is rolled twice. Let X equal the sum of the two outcomes making the possible values of X, 2, 3, 4, 5, 6, 7, 8. Dataset A2_data1.txt is the outcome of the experiment conducted 1000 times.  Create a table titled, \"Sum of Two Tetrahedral Dice\" that consists of four columns as follows.\n",
    "\n",
    "Col1: x - the sum of the outcomes (i.e. 2, 3, 4, etc.)\n",
    "\n",
    "Col2: Number of Observations of x\n",
    "\n",
    "Col3: Relative Frequency of x\n",
    "\n",
    "Col4: Probability of {X=x}"
   ]
  },
  {
   "cell_type": "markdown",
   "metadata": {},
   "source": [
    "Since we have a 4 sided die, we know that the possible outcomes of X are, 2, 3, 4, 5, 6, 7, and 8.  These possible outcomes will be column 1 of the tables.  Column 2 of the table will be the number of each sum observed in the experiment. The relative frequency, or column 3 of the table, will be the probability of each sum based on the results of the experiment. Column 4 of the table, the probability of {X=x}, will be the actual probability of getting one of the sums."
   ]
  },
  {
   "cell_type": "code",
   "execution_count": 15,
   "metadata": {},
   "outputs": [
    {
     "data": {
      "text/html": [
       "<table>\n",
       "<thead><tr><th scope=col>Sums</th><th scope=col>Freq</th></tr></thead>\n",
       "<tbody>\n",
       "\t<tr><td>(0,1]</td><td>  0  </td></tr>\n",
       "\t<tr><td>(1,2]</td><td> 71  </td></tr>\n",
       "\t<tr><td>(2,3]</td><td>124  </td></tr>\n",
       "\t<tr><td>(3,4]</td><td>194  </td></tr>\n",
       "\t<tr><td>(4,5]</td><td>258  </td></tr>\n",
       "\t<tr><td>(5,6]</td><td>177  </td></tr>\n",
       "\t<tr><td>(6,7]</td><td>122  </td></tr>\n",
       "\t<tr><td>(7,8]</td><td> 54  </td></tr>\n",
       "</tbody>\n",
       "</table>\n"
      ],
      "text/latex": [
       "\\begin{tabular}{r|ll}\n",
       " Sums & Freq\\\\\n",
       "\\hline\n",
       "\t (0,1{]} &   0    \\\\\n",
       "\t (1,2{]} &  71    \\\\\n",
       "\t (2,3{]} & 124    \\\\\n",
       "\t (3,4{]} & 194    \\\\\n",
       "\t (4,5{]} & 258    \\\\\n",
       "\t (5,6{]} & 177    \\\\\n",
       "\t (6,7{]} & 122    \\\\\n",
       "\t (7,8{]} &  54    \\\\\n",
       "\\end{tabular}\n"
      ],
      "text/markdown": [
       "\n",
       "| Sums | Freq |\n",
       "|---|---|\n",
       "| (0,1] |   0   |\n",
       "| (1,2] |  71   |\n",
       "| (2,3] | 124   |\n",
       "| (3,4] | 194   |\n",
       "| (4,5] | 258   |\n",
       "| (5,6] | 177   |\n",
       "| (6,7] | 122   |\n",
       "| (7,8] |  54   |\n",
       "\n"
      ],
      "text/plain": [
       "  Sums  Freq\n",
       "1 (0,1]   0 \n",
       "2 (1,2]  71 \n",
       "3 (2,3] 124 \n",
       "4 (3,4] 194 \n",
       "5 (4,5] 258 \n",
       "6 (5,6] 177 \n",
       "7 (6,7] 122 \n",
       "8 (7,8]  54 "
      ]
     },
     "metadata": {},
     "output_type": "display_data"
    },
    {
     "name": "stdout",
     "output_type": "stream",
     "text": [
      "  Sum of Two Tetrahedral Dice\n",
      "   Sums Freq Rel_freq   Prob\n",
      "  (0,1]    0    0.000 0.0000\n",
      "2 (1,2]   71    0.071 0.0625\n",
      "3 (2,3]  124    0.124 0.1250\n",
      "4 (3,4]  194    0.194 0.1875\n",
      "5 (4,5]  258    0.258 0.2500\n",
      "6 (5,6]  177    0.177 0.1875\n",
      "7 (6,7]  122    0.122 0.1250\n",
      "8 (7,8]   54    0.054 0.0625\n"
     ]
    }
   ],
   "source": [
    "###### Determining probabilities for Column 4 #################\n",
    "###############################################################\n",
    "\n",
    "#the different possible sums of rolling 2 tetrahedral dice\n",
    "row1 <- c(2,3,4,5)\n",
    "row2 <- c(3,4,5,6)\n",
    "row3 <- c(4,5,6,7)\n",
    "row4 <- c(5,6,7,8)\n",
    "\n",
    "#creating matrix of possible sums\n",
    "possibleSums <-matrix(c(row1,row2,row3,row4),nrow=4,byrow=TRUE)\n",
    "\n",
    "#creating table of possible sums\n",
    "a <-table(possibleSums)\n",
    "\n",
    "#calculating probabiliites for the possible sums - we know that the sample space will be 4^2 = 16 possible sums\n",
    "S <- 4^2\n",
    "prob1 <- 0\n",
    "prob2 <- a[names(a)==2]/S\n",
    "prob3 <- a[names(a)==3]/S\n",
    "prob4 <- a[names(a)==4]/S\n",
    "prob5 <- a[names(a)==5]/S\n",
    "prob6 <- a[names(a)==6]/S\n",
    "prob7 <- a[names(a)==7]/S\n",
    "prob8 <- a[names(a)==8]/S\n",
    "\n",
    "#creating vector of probabilities\n",
    "allProbs<- c(prob1, prob2, prob3, prob4, prob5, prob6, prob7, prob8)\n",
    "\n",
    "###### Creating Table with 4 Columns #####################\n",
    "#########################################################\n",
    "\n",
    "#reading in data A4_data1.txt as given for the problem\n",
    "data1 <- read.table(\"A4_data1.txt\",header=TRUE,sep=\"\")\n",
    "result <- data1$x\n",
    "\n",
    "#creates list of different sum ranges\n",
    "bins <- seq(0,8,by=1) \n",
    "\n",
    "#grouping data into bins\n",
    "Sums <- cut(result,bins)\n",
    "\n",
    "#creating table of the sums and frequencies of each sum\n",
    "prob1<-table(Sums)\n",
    "transform(prob1)\n",
    "\n",
    "#creating table with the range of sums, the frequency of each sum, the relative frequency, \n",
    "#and the actual calculated probability of each sum\n",
    "finalTable <- transform(prob1, Rel_freq=prop.table(Freq), Prob = prop.table(allProbs))\n",
    "\n",
    "#printing table with a title\n",
    "printTable <- function(x){\n",
    "  cat(\"  Sum of Two Tetrahedral Dice\\n\")\n",
    "  x\n",
    "}\n",
    "\n",
    "print(printTable(finalTable))\n",
    "\n"
   ]
  },
  {
   "cell_type": "markdown",
   "metadata": {},
   "source": [
    "As can be seen in the table above, the first column is the possible sum.  It is shown as a range of the sum. The square bracket demonstrates that the number is included in the range.  For example, (0,1] means between 0-1 and including 1. Because a fractional sum is not possible, (0,1] means the observance of 1.  Also, since a sum of 1 is not possible, there were no 0's observed. Column 2 is the frequency of the number of the sums observed. The relative frequency is the percentage of the sum observed in the experiment.  The last column, Prob, is the actual probability of getting one of the possible sums."
   ]
  },
  {
   "cell_type": "markdown",
   "metadata": {},
   "source": [
    "## Problem 2\n",
    "Create a probabilistic histogram of the p.m.f of X, (Col4 of your table), and superimpose it over a shaded histogram that represents the observed relative frequencies, (Col3 of your table), for the corresponding values. Choose color shading that allow both histograms to be observed on the same graph."
   ]
  },
  {
   "cell_type": "markdown",
   "metadata": {},
   "source": [
    "a. Histogram of the p.m.f of X or Column 4 of the table."
   ]
  },
  {
   "cell_type": "code",
   "execution_count": 16,
   "metadata": {},
   "outputs": [
    {
     "data": {
      "image/png": "[encoded data removed]",
      "text/plain": [
       "plot without title"
      ]
     },
     "metadata": {},
     "output_type": "display_data"
    }
   ],
   "source": [
    "#Creating histogram of p.m.f of X (Col4 of table) from Problem 1\n",
    "#install.packages(\"lattice\")\n",
    "library(lattice)\n",
    "\n",
    "data2 <- c(row1,row2,row3,row4)\n",
    "\n",
    "mybins1 <- c(0,1,2,3,4,5,6,7,8)\n",
    "histogram(data2, type = \"percent\",\n",
    "          main = \"Probabilities of Each Possible Sum\",\n",
    "          xlab = \"Possible Sums of 2 Tetrahedral Die\",\n",
    "          col = \"skyblue2\",\n",
    "          breaks = mybins1)"
   ]
  },
  {
   "cell_type": "markdown",
   "metadata": {},
   "source": [
    "b.) Histogram of observed relative frequencies (Column 3 of Table)"
   ]
  },
  {
   "cell_type": "code",
   "execution_count": 17,
   "metadata": {},
   "outputs": [
    {
     "data": {
      "image/png": "[encoded data removed]",
      "text/plain": [
       "plot without title"
      ]
     },
     "metadata": {},
     "output_type": "display_data"
    }
   ],
   "source": [
    "#Creating histogram of observed relative frequencies (Column 3 of Table) from Problem 1\n",
    "\n",
    "data3 <- c(result)\n",
    "\n",
    "histogram(data3, type = \"percent\",\n",
    "          main = \"Observed Relative Frequencies - 1,000 Trials\",\n",
    "          xlab = \"Possible Sums of 2 Tetrahedral Die\",\n",
    "          col = \"plum1\",\n",
    "          breaks = mybins1)"
   ]
  },
  {
   "cell_type": "markdown",
   "metadata": {},
   "source": [
    "c.) Superimposed Histogram (Combined Histogram of Histogram in part a and in part b)"
   ]
  },
  {
   "cell_type": "code",
   "execution_count": 18,
   "metadata": {},
   "outputs": [
    {
     "data": {
      "image/png": "[encoded data removed]",
      "text/plain": [
       "plot without title"
      ]
     },
     "metadata": {},
     "output_type": "display_data"
    }
   ],
   "source": [
    "#Creating Superimposed Histogram\n",
    "#install.packages(\"ggplot2\")\n",
    "library(ggplot2)\n",
    "\n",
    "#creating data sets\n",
    "actual <- data.frame(Sum_of_Die = data2)\n",
    "trial <- data.frame(Sum_of_Die = data3)\n",
    "\n",
    "# combining dataframes into one by making new column for identifying variable \n",
    "actual$frqncy <- 'actual'\n",
    "trial$frqncy <- 'trial'\n",
    "\n",
    "# combined into one dataframe\n",
    "frequencies <- rbind(actual, trial)\n",
    "\n",
    "#plotting histogram\n",
    "#theme helps center adjust the title of the histogram\n",
    "#alpha adjusts the transparency of the histogram colors\n",
    "#density makes the histogram based on relative frequency\n",
    "ggplot(frequencies, aes(Sum_of_Die, fill = frqncy)) + \n",
    "  ggtitle(\"Superimposed Histogram of Columns 3 and 4\") +\n",
    "  theme_bw() +\n",
    "  theme(plot.title = element_text(hjust = 0.5)) +\n",
    "  geom_histogram(alpha = 0.3, aes(y = ..density..), position = 'identity', bins = 7) \n",
    "\n"
   ]
  },
  {
   "cell_type": "markdown",
   "metadata": {},
   "source": [
    "As can be seen in the histogram above, with 1,000 trials, the relative frequency of the sums in the experiement is close but does not exactly match the actual probabilities of each sum."
   ]
  },
  {
   "cell_type": "markdown",
   "metadata": {},
   "source": [
    "## Problem 3\n",
    "Write a function called, 'Roll', to simulate the tetrahedron dice experiment 100,000 times and repeat the table and histograms from problem 1 and 2. What do you notice as the number of trials increase?"
   ]
  },
  {
   "cell_type": "markdown",
   "metadata": {},
   "source": [
    "a.) Simulating tetrahedron dice experiment 100,000 times"
   ]
  },
  {
   "cell_type": "code",
   "execution_count": 19,
   "metadata": {},
   "outputs": [],
   "source": [
    "#writing function \"Roll\" for simulating tetrahedron dice n times\n",
    "Roll <- function(n){\n",
    "    sample(1:4,n,replace=TRUE) + sample(1:4,n,replace=TRUE)\n",
    "}\n",
    "\n",
    "#simulation of tetrahedron dice 100,000 times\n",
    "simulation <- Roll(100000)"
   ]
  },
  {
   "cell_type": "markdown",
   "metadata": {},
   "source": [
    "b.) Printing Table similar to Problem 2"
   ]
  },
  {
   "cell_type": "code",
   "execution_count": 20,
   "metadata": {},
   "outputs": [
    {
     "data": {
      "text/html": [
       "<table>\n",
       "<thead><tr><th scope=col>Sums3</th><th scope=col>Freq</th></tr></thead>\n",
       "<tbody>\n",
       "\t<tr><td>(0,1]</td><td>    0</td></tr>\n",
       "\t<tr><td>(1,2]</td><td> 6235</td></tr>\n",
       "\t<tr><td>(2,3]</td><td>12431</td></tr>\n",
       "\t<tr><td>(3,4]</td><td>18892</td></tr>\n",
       "\t<tr><td>(4,5]</td><td>24965</td></tr>\n",
       "\t<tr><td>(5,6]</td><td>18868</td></tr>\n",
       "\t<tr><td>(6,7]</td><td>12376</td></tr>\n",
       "\t<tr><td>(7,8]</td><td> 6233</td></tr>\n",
       "</tbody>\n",
       "</table>\n"
      ],
      "text/latex": [
       "\\begin{tabular}{r|ll}\n",
       " Sums3 & Freq\\\\\n",
       "\\hline\n",
       "\t (0,1{]} &     0  \\\\\n",
       "\t (1,2{]} &  6235  \\\\\n",
       "\t (2,3{]} & 12431  \\\\\n",
       "\t (3,4{]} & 18892  \\\\\n",
       "\t (4,5{]} & 24965  \\\\\n",
       "\t (5,6{]} & 18868  \\\\\n",
       "\t (6,7{]} & 12376  \\\\\n",
       "\t (7,8{]} &  6233  \\\\\n",
       "\\end{tabular}\n"
      ],
      "text/markdown": [
       "\n",
       "| Sums3 | Freq |\n",
       "|---|---|\n",
       "| (0,1] |     0 |\n",
       "| (1,2] |  6235 |\n",
       "| (2,3] | 12431 |\n",
       "| (3,4] | 18892 |\n",
       "| (4,5] | 24965 |\n",
       "| (5,6] | 18868 |\n",
       "| (6,7] | 12376 |\n",
       "| (7,8] |  6233 |\n",
       "\n"
      ],
      "text/plain": [
       "  Sums3 Freq \n",
       "1 (0,1]     0\n",
       "2 (1,2]  6235\n",
       "3 (2,3] 12431\n",
       "4 (3,4] 18892\n",
       "5 (4,5] 24965\n",
       "6 (5,6] 18868\n",
       "7 (6,7] 12376\n",
       "8 (7,8]  6233"
      ]
     },
     "metadata": {},
     "output_type": "display_data"
    },
    {
     "name": "stdout",
     "output_type": "stream",
     "text": [
      "  Sum of Two Tetrahedral Dice\n",
      "  Sums3  Freq Rel_freq   Prob\n",
      "  (0,1]     0  0.00000 0.0000\n",
      "2 (1,2]  6235  0.06235 0.0625\n",
      "3 (2,3] 12431  0.12431 0.1250\n",
      "4 (3,4] 18892  0.18892 0.1875\n",
      "5 (4,5] 24965  0.24965 0.2500\n",
      "6 (5,6] 18868  0.18868 0.1875\n",
      "7 (6,7] 12376  0.12376 0.1250\n",
      "8 (7,8]  6233  0.06233 0.0625\n"
     ]
    }
   ],
   "source": [
    "#Printing Table\n",
    "\n",
    "#creates list of different sum ranges\n",
    "bins3 <- seq(0,8,by=1) \n",
    "\n",
    "#grouping data into bins\n",
    "Sums3 <- cut(simulation,bins3)\n",
    "\n",
    "#creating table of the sums and frequencies of each sum\n",
    "prob3<-table(Sums3)\n",
    "transform(prob3)\n",
    "\n",
    "#creating table with the range of sums, the frequency of each sum, the relative frequency, \n",
    "#and the actual calculated probability of each sum\n",
    "finalTable3 <- transform(prob3, Rel_freq=prop.table(Freq), Prob = prop.table(allProbs))\n",
    "\n",
    "print(printTable(finalTable3))"
   ]
  },
  {
   "cell_type": "markdown",
   "metadata": {},
   "source": [
    "c.) Printing Histograms"
   ]
  },
  {
   "cell_type": "markdown",
   "metadata": {},
   "source": [
    "Histogram of the probabiliites of each possible Sum - Column 4 of table"
   ]
  },
  {
   "cell_type": "code",
   "execution_count": 12,
   "metadata": {},
   "outputs": [
    {
     "data": {
      "image/png": "[encoded data removed]",
      "text/plain": [
       "plot without title"
      ]
     },
     "metadata": {},
     "output_type": "display_data"
    }
   ],
   "source": [
    "#Printing Histograms\n",
    "\n",
    "#Creating histogram of p.m.f of X (Col4 of table) from this Problem(Same as Problem1)\n",
    "#install.packages(\"lattice\")\n",
    "library(lattice)\n",
    "\n",
    "prob3data2 <- c(row1,row2,row3,row4)\n",
    "\n",
    "histogram(prob3data2, type = \"percent\",\n",
    "          main = \"Probabilities of Each Possible Sum\",\n",
    "          xlab = \"Possible Sums of 2 Tetrahedral Die\",\n",
    "          col = \"skyblue2\",\n",
    "          breaks = mybins1)"
   ]
  },
  {
   "cell_type": "markdown",
   "metadata": {},
   "source": [
    "This histogram is the same histogram for Column 4 as shown in problem 2.  The actual probability of getting a specific sum does not change."
   ]
  },
  {
   "cell_type": "markdown",
   "metadata": {},
   "source": [
    "Histogram of the observed relative frequences - Column 3 of table"
   ]
  },
  {
   "cell_type": "code",
   "execution_count": 21,
   "metadata": {},
   "outputs": [
    {
     "data": {
      "image/png": "[encoded data removed]",
      "text/plain": [
       "plot without title"
      ]
     },
     "metadata": {},
     "output_type": "display_data"
    }
   ],
   "source": [
    "#Creating histogram of observed relative frequencies (Column 3 of Table) from this Problem - 100,000 trials\n",
    "\n",
    "prob3data3 <- c(simulation)\n",
    "\n",
    "histogram(prob3data3, type = \"percent\",\n",
    "          main = \"Observed Relative Frequencies w/ 100,000 Rolls\",\n",
    "          xlab = \"Possible Sums of 2 Tetrahedral Die\",\n",
    "          col = \"plum1\",\n",
    "          breaks = mybins1)"
   ]
  },
  {
   "cell_type": "markdown",
   "metadata": {},
   "source": [
    "The histogram of the relative frequency using 100,000 rolls appears to be very similar to the histogram of the actual probailities of each sum."
   ]
  },
  {
   "cell_type": "markdown",
   "metadata": {},
   "source": [
    "Superimposed Histogram "
   ]
  },
  {
   "cell_type": "code",
   "execution_count": 22,
   "metadata": {},
   "outputs": [
    {
     "data": {
      "image/png": "[encoded data removed]",
      "text/plain": [
       "plot without title"
      ]
     },
     "metadata": {},
     "output_type": "display_data"
    }
   ],
   "source": [
    "#Creating Superimposed Histogram\n",
    "#install.packages(\"ggplot2\")\n",
    "library(ggplot2)\n",
    "\n",
    "#creating data sets\n",
    "prob3actual <- data.frame(Sum_of_Die = prob3data2)\n",
    "prob3trial <- data.frame(Sum_of_Die = prob3data3)\n",
    "\n",
    "# combining dataframes into one by making new column for identifying variable \n",
    "prob3actual$frqncy <- 'prob3actual'\n",
    "prob3trial$frqncy <- 'prob3trial'\n",
    "\n",
    "# combined into one dataframe\n",
    "prob3frequencies <- rbind(prob3actual, prob3trial)\n",
    "\n",
    "#plotting histogram\n",
    "#theme helps center adjust the title of the histogram\n",
    "#alpha adjusts the transparency of the histogram colors\n",
    "#density makes the histogram based on relative frequency\n",
    "ggplot(prob3frequencies, aes(Sum_of_Die, fill = frqncy)) + \n",
    "  ggtitle(\"Superimposed Histogram of Columns 3 and 4 w/ 100,000 Rolls\") +\n",
    "  theme_bw() +\n",
    "  theme(plot.title = element_text(hjust = 0.5)) +\n",
    "  geom_histogram(alpha = 0.3, aes(y = ..density..), position = 'identity', bins = 7) "
   ]
  },
  {
   "cell_type": "markdown",
   "metadata": {},
   "source": [
    "As the number of trials increase, the relative frequency begins to match the actual probabilities of the sum of dice.  Both histograms have almost completely overlapped.  "
   ]
  },
  {
   "cell_type": "markdown",
   "metadata": {},
   "source": [
    "## References"
   ]
  },
  {
   "cell_type": "markdown",
   "metadata": {},
   "source": [
    "Problem 1:\n",
    "\n",
    "https://r.789695.n4.nabble.com/Adding-summary-title-to-table-td4642094.html\n",
    "\n",
    "https://rpubs.com/careybaldwin/346995\n",
    "\n",
    "https://cosmosweb.champlain.edu/people/stevens/WebTech/R/Chapter-3-R.pdf\n",
    "\n",
    "Problems 2 and 3:\n",
    "\n",
    "https://cosmosweb.champlain.edu/people/stevens/WebTech/R/Chapter-3-R.pdf\n",
    "\n",
    "https://rpubs.com/CamilleFairbourn/307794\n",
    "\n",
    "https://stackoverflow.com/questions/45346885/center-plot-title-in-ggplot2-using-theme-bw\n",
    "\n",
    "https://stackoverflow.com/questions/3541713/how-to-plot-two-histograms-together-in-r\n"
   ]
  }
 ],
 "metadata": {
  "kernelspec": {
   "display_name": "R",
   "language": "R",
   "name": "ir"
  },
  "language_info": {
   "codemirror_mode": "r",
   "file_extension": ".r",
   "mimetype": "text/x-r-source",
   "name": "R",
   "pygments_lexer": "r",
   "version": "3.6.1"
  }
 },
 "nbformat": 4,
 "nbformat_minor": 4
}
