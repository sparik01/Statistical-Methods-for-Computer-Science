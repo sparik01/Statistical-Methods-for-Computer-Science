{
 "cells": [
  {
   "cell_type": "markdown",
   "metadata": {},
   "source": [
    "# R Coding Assignment #5: Continuous Random Variables"
   ]
  },
  {
   "cell_type": "markdown",
   "metadata": {},
   "source": [
    "### Sheetal Parikh\n",
    "EN.605.631.81<br>\n",
    "October 4, 2020\n",
    "***\n",
    "***"
   ]
  },
  {
   "cell_type": "code",
   "execution_count": 1,
   "metadata": {},
   "outputs": [],
   "source": [
    "set.seed(11111)"
   ]
  },
  {
   "cell_type": "markdown",
   "metadata": {},
   "source": [
    "## Problem 1\n",
    "The time to seat customers during peak times follows an exponential distribution with mean of 5.2 minutes.\n",
    "The time customers spend dining is normally distributed with mean 51.3 minutes and standard deviation 9.1 minutes.\n",
    "Simulate a sequence of 500 seating times for customers arriving at your restaurant. What is the mean and standard deviation of your simulated sequence?  Modify the line of code to produce a boxplot of your simulated data.\n",
    "\n",
    "boxplot(my.sim.data, col='cyan', border='blue', horizontal=T, xlab='Minutes', main='Interarrival times')\n",
    "\n",
    "Modify the line of code to produce a density curve overlaid on a histogram of your data. [note that you need the ggplot2 package]\n",
    "\n",
    "ggplot(data=as.data.frame(my.sim.data), aes(x=my.sim.data)) + geom_histogram(aes(y = ..density..,fill=..count..,alpha=0.2),bins=32, closed='left') +  geom_density(fill='red',alpha=0.2)"
   ]
  },
  {
   "cell_type": "markdown",
   "metadata": {},
   "source": [
    "a.) Simulate a sequence of 500 seating times for customers arriving at your restaurant. What is the mean and standard deviation of your simulated sequence?  "
   ]
  },
  {
   "cell_type": "markdown",
   "metadata": {},
   "source": [
    "We are given that the seating time follows an exponential distribution with mean = E[X] = 5.2 minutes.  Since we are using an exponential distribution the standard deviation also equals 5.2 minutes. Because E[X] = 1/lamda = 5.2 minutes, we can find that the lambda = 1/5.2 = 0.1923."
   ]
  },
  {
   "cell_type": "code",
   "execution_count": 2,
   "metadata": {},
   "outputs": [
    {
     "name": "stdout",
     "output_type": "stream",
     "text": [
      "Mean of Seating Time:  4.903315\n",
      "Standard Deviation of Seating Time: 4.666484"
     ]
    }
   ],
   "source": [
    "#set.seed(11111)\n",
    "\n",
    "# Finding lamda\n",
    "lamda1 <- 1/5.2\n",
    "\n",
    "#simulating sequence of 500 seating times from the exponential distribution\n",
    "seating<-rexp(500,rate = lamda1)\n",
    "\n",
    "###Calculating Mean###\n",
    "#mean1 <- mean(seating)\n",
    "\n",
    "#function for calculating mean\n",
    "meansample <- function(x) {\n",
    "    sum(x)/length(x)\n",
    "}\n",
    "\n",
    "mean1 <- meansample(seating)\n",
    "cat(\"Mean of Seating Time: \", mean1)\n",
    "#cat(\"\\n\")\n",
    "\n",
    "###Calculating Standard Deviation###\n",
    "#stdv1 <- sd(seating)\n",
    "\n",
    "#function for calculating standard deviation\n",
    "stdv <- function(n) {\n",
    "    sqrt(sum((n-mean(n))^2/(length(n)-1)))\n",
    "}\n",
    "\n",
    "stdv1 <- stdv(seating)\n",
    "cat(\"\\nStandard Deviation of Seating Time:\", stdv1)\n"
   ]
  },
  {
   "cell_type": "markdown",
   "metadata": {},
   "source": [
    "We can see that we get a mean and standard deviation close to the given mean and standard deviation of 5.2.  As we do even more simulations we would get even closer to the actual mean and standard deviation (as can be seen in the example directly below)."
   ]
  },
  {
   "cell_type": "code",
   "execution_count": 3,
   "metadata": {},
   "outputs": [
    {
     "name": "stdout",
     "output_type": "stream",
     "text": [
      "Mean if using 100000 exponentials: 5.199385\n",
      "Standard Deviation if using 100000 exponentials: 5.196171"
     ]
    }
   ],
   "source": [
    "set.seed(11111)\n",
    "\n",
    "example1 <- rexp(100000, rate = lamda1)\n",
    "\n",
    "meanex1 <- mean(example1)\n",
    "cat(\"Mean if using 100000 exponentials:\", meanex1)\n",
    "\n",
    "stdvex1 <- sd(example1)\n",
    "cat(\"\\nStandard Deviation if using 100000 exponentials:\", stdvex1)"
   ]
  },
  {
   "cell_type": "markdown",
   "metadata": {},
   "source": [
    "b.) Boxplot of simulated data\n",
    "\n",
    "boxplot(my.sim.data, col='cyan', border='blue', horizontal=T, xlab='Minutes', main='Interarrival times')"
   ]
  },
  {
   "cell_type": "code",
   "execution_count": 24,
   "metadata": {},
   "outputs": [
    {
     "data": {
      "image/png": "[encoded data removed]",
      "text/plain": [
       "Plot with title \"Interarrival Times for Seating Customers \n",
       "(500 Random Exponentials)\""
      ]
     },
     "metadata": {},
     "output_type": "display_data"
    }
   ],
   "source": [
    "boxplot(seating, col='cornflowerblue', border='darkblue', horizontal=T, xlab='Seating Time(minutes)', \n",
    "        main='Interarrival Times for Seating Customers \\n(500 Random Exponentials)')"
   ]
  },
  {
   "cell_type": "markdown",
   "metadata": {},
   "source": [
    "The box plot above is what we would expect knowing the pdf shape of the exponential distribution.  Where on the pdf we have the peak of the graph, on the boxplot that data would be between Q1, the Median, and Quarter 3.  Near the end of quarter 3 and the max value, the graph of the exponential distribution approaches downwards and as we get towards the outliers on the boxplot, the graph is approaching y = 0."
   ]
  },
  {
   "cell_type": "markdown",
   "metadata": {},
   "source": [
    "c) Density curve overlaid on a histogram of your data. \n",
    "\n",
    "ggplot(data=as.data.frame(my.sim.data), aes(x=my.sim.data)) + geom_histogram(aes(y = ..density..,fill=..count..,alpha=0.2),bins=32, closed='left') + geom_density(fill='red',alpha=0.2)"
   ]
  },
  {
   "cell_type": "code",
   "execution_count": 25,
   "metadata": {},
   "outputs": [
    {
     "data": {
      "image/png": "[encoded data removed]",
      "text/plain": [
       "plot without title"
      ]
     },
     "metadata": {},
     "output_type": "display_data"
    }
   ],
   "source": [
    "#install.packages(\"ggplot2\")\n",
    "library(ggplot2)\n",
    "\n",
    "ggplot(data=as.data.frame(seating), aes(x=seating)) + \n",
    "    ggtitle(\"Distribution of 500 Random Exponentials of Seating Times\") +\n",
    "    theme_bw() +\n",
    "    theme(plot.title = element_text(hjust=0.5)) +\n",
    "    geom_histogram(aes(y = ..density..,fill=..count..,alpha=0.2),\n",
    "    bins=32, closed='left') + \n",
    "    geom_density(fill='red',alpha=0.2) +\n",
    "    geom_vline(aes(xintercept=mean1), col=\"red\") +\n",
    "    geom_text(aes(x=mean1,label=\"\\nsample mean\",y=0.025),colour=\"black\",angle=90, size=4) +\n",
    "    xlab(\"Seating Times(minutes)\") + ylab(\"Density\")"
   ]
  },
  {
   "cell_type": "markdown",
   "metadata": {},
   "source": [
    "We can see above that the density curve almost fits the histogram. A vertical red line has been added to visualize how the random variables compare to the sample mean of approximately 4.9.  With even more seating times, we would see the graph towards even a closer fit of the exponential distribution. The different colors of the \"count\" key help distinguish how many random variables we have for a particular seating time. From the graph it seems that a customer being seated in about 3 minutes has the highest probability for a single number of time."
   ]
  },
  {
   "cell_type": "markdown",
   "metadata": {},
   "source": [
    "## Problem 2\n",
    "Simulate the dining times for customers at the restaurant.  What is the mean and standard deviation of your simulated sequence?  Produce a boxplot of your simulated data.  Produce a density curve overlaid on a histogram of your data."
   ]
  },
  {
   "cell_type": "markdown",
   "metadata": {},
   "source": [
    "We are given that the dining times follow an normal distribution with mean = E[X] = 51.3 minutes and the standard deviation is 9.1 minues."
   ]
  },
  {
   "cell_type": "markdown",
   "metadata": {},
   "source": [
    "a.) Mean and standard deviation of simulated sequence"
   ]
  },
  {
   "cell_type": "code",
   "execution_count": 4,
   "metadata": {},
   "outputs": [
    {
     "name": "stdout",
     "output_type": "stream",
     "text": [
      "Mean of Dining Time:  50.98253\n",
      "Standard Deviation of Dining Time: 9.335467"
     ]
    }
   ],
   "source": [
    "set.seed(11111)\n",
    "\n",
    "#simulating sequence of 500 dining times from the normal distribution\n",
    "dining <- rnorm(500, mean = 51.3, sd = 9.1)\n",
    "\n",
    "#calculating the mean of dining times\n",
    "#mean(dining)\n",
    "mean2 <- meansample(dining)\n",
    "cat(\"Mean of Dining Time: \", mean2)\n",
    "#cat(\"\\n\")\n",
    "\n",
    "\n",
    "#calculating the standard deviation of dining times\n",
    "#sd(dining)\n",
    "stdv2 <- stdv(dining)\n",
    "cat(\"\\nStandard Deviation of Dining Time:\", stdv2)"
   ]
  },
  {
   "cell_type": "markdown",
   "metadata": {},
   "source": [
    "We can see that we get a mean and standard deviation close to the given mean of 51.3 and standard deviation of 9.1.  As we do even more simulations we would get even closer to the actual mean and standard deviation (as can be seen in the example directly below)."
   ]
  },
  {
   "cell_type": "code",
   "execution_count": 5,
   "metadata": {},
   "outputs": [
    {
     "name": "stdout",
     "output_type": "stream",
     "text": [
      "Mean if using 100000 Random Normal Variables: 51.27068\n",
      "Standard Deviation if using 100000 Random Normal Variables: 9.11187"
     ]
    }
   ],
   "source": [
    "set.seed(11111)\n",
    "\n",
    "example2 <- rnorm(100000, mean = 51.3, sd = 9.1)\n",
    "\n",
    "meanex2 <- mean(example2)\n",
    "cat(\"Mean if using 100000 Random Normal Variables:\", meanex2)\n",
    "\n",
    "stdvex2 <- sd(example2)\n",
    "cat(\"\\nStandard Deviation if using 100000 Random Normal Variables:\", stdvex2)"
   ]
  },
  {
   "cell_type": "markdown",
   "metadata": {},
   "source": [
    "b.) Boxplot of simulated Data"
   ]
  },
  {
   "cell_type": "code",
   "execution_count": 6,
   "metadata": {},
   "outputs": [
    {
     "data": {
      "image/png": "[encoded data removed]",
      "text/plain": [
       "Plot with title \"Interarrival Times for Customers Dining \n",
       "(500 Random Normal Values)\""
      ]
     },
     "metadata": {},
     "output_type": "display_data"
    }
   ],
   "source": [
    "boxplot(dining, col='orchid', border='deeppink3', horizontal=T, xlab='Dining Time(minutes)', \n",
    "        main='Interarrival Times for Customers Dining \\n(500 Random Normal Values)')"
   ]
  },
  {
   "cell_type": "markdown",
   "metadata": {},
   "source": [
    "The box plot above is what we would expect knowing the bell curve shape of the normal distribution pdf. The peak of the bell curve on the bell curve pdf would be between Q1 and Q3.  Then from Q1 to the min and Q3 to the max would be where the bell curve approaches the tails of the graph."
   ]
  },
  {
   "cell_type": "markdown",
   "metadata": {},
   "source": [
    "c.) Density curve overlaid on histogram of data."
   ]
  },
  {
   "cell_type": "code",
   "execution_count": 28,
   "metadata": {},
   "outputs": [
    {
     "data": {
      "image/png": "[encoded data removed]",
      "text/plain": [
       "plot without title"
      ]
     },
     "metadata": {},
     "output_type": "display_data"
    }
   ],
   "source": [
    "library(ggplot2)\n",
    "\n",
    "ggplot(data=as.data.frame(dining), aes(x=dining)) + \n",
    "    ggtitle(\"Distribution of 500 Normal Random Variables of Dining Times\") +\n",
    "    theme_bw() +\n",
    "    theme(plot.title = element_text(hjust=0.5)) +\n",
    "    geom_histogram(aes(y = ..density..,fill=..count..,alpha=0.2),\n",
    "    bins=32) + \n",
    "    geom_density(fill='red',alpha=0.2) +\n",
    "    geom_vline(aes(xintercept=mean2), col=\"red\") +\n",
    "    geom_text(aes(x=mean2,label=\"\\nsample mean\",y=0.02),colour=\"black\",angle=90, size=4) +\n",
    "    xlab(\"Dining Times(minutes)\") + ylab(\"Density\")"
   ]
  },
  {
   "cell_type": "markdown",
   "metadata": {},
   "source": [
    "We can see above that the density curve almost fits the histogram. A vertical red line has been added to visualize how the random variables compare to the sample mean of approximately 51 minutes. With even more seating times, we would see the graph towards even a closer fit of the exponential distribution. The different colors of the \"count\" key help distinguish how many random variables we have for a particular seating time.  From the graph it seems that a customer spending roughly 47-48 minutes has the highest probability for a single number of time."
   ]
  },
  {
   "cell_type": "markdown",
   "metadata": {},
   "source": [
    "## Problem 3\n",
    "Simulate the total time a customer spends in the restaurant by adding the seating time and dining time.  Generate a density curve overlaid on a histogram for these data. "
   ]
  },
  {
   "cell_type": "markdown",
   "metadata": {},
   "source": [
    "a.)Mean and standard deviation of simulated sequence"
   ]
  },
  {
   "cell_type": "markdown",
   "metadata": {},
   "source": [
    "To determine the total time a customer spends in the restaurant, the simulated 500 random exponential variables can be added to the simulated 500 random normal variables.  The standard deviation and mean can then be calculated from this new set of combined random 500 variables."
   ]
  },
  {
   "cell_type": "code",
   "execution_count": 7,
   "metadata": {},
   "outputs": [
    {
     "name": "stdout",
     "output_type": "stream",
     "text": [
      "Mean of Total Customer Time in Restaurant:  55.88584\n",
      "Standard Deviation of Total Customer Time in Restaurant: 10.52225"
     ]
    }
   ],
   "source": [
    "#adding together seating time and dining time\n",
    "total_time <- seating + dining\n",
    "\n",
    "#calculating the mean\n",
    "#mean(total_time)\n",
    "mean3 <- meansample(total_time)\n",
    "cat(\"Mean of Total Customer Time in Restaurant: \", mean3)\n",
    "\n",
    "#calculating the standard deviation\n",
    "#sd(total_time)\n",
    "stdv3 <- stdv(total_time)\n",
    "cat(\"\\nStandard Deviation of Total Customer Time in Restaurant:\", stdv3)"
   ]
  },
  {
   "cell_type": "markdown",
   "metadata": {},
   "source": [
    "b.)Density curve overlaid on histogram for data"
   ]
  },
  {
   "cell_type": "code",
   "execution_count": 30,
   "metadata": {},
   "outputs": [
    {
     "data": {
      "image/png": "[encoded data removed]",
      "text/plain": [
       "plot without title"
      ]
     },
     "metadata": {},
     "output_type": "display_data"
    }
   ],
   "source": [
    "library(ggplot2)\n",
    "\n",
    "ggplot(data=as.data.frame(total_time), aes(x=total_time)) + \n",
    "    ggtitle(\"Distribution of 500 Random Variables of Total Restaurant Time\") +\n",
    "    theme_bw() +\n",
    "    theme(plot.title = element_text(hjust=0.5)) +\n",
    "    geom_histogram(aes(y = ..density..,fill=..count..,alpha=0.2),\n",
    "    bins=32) + \n",
    "    geom_density(fill='red',alpha=0.2) +\n",
    "    geom_vline(aes(xintercept=mean3), col=\"red\") +\n",
    "    geom_text(aes(x=mean3,label=\"\\nsample mean\",y=0.02),colour=\"black\",angle=90, size=4) +\n",
    "    xlab(\"Total Restaraunt Times(minutes)\") + ylab(\"Density\")"
   ]
  },
  {
   "cell_type": "markdown",
   "metadata": {},
   "source": [
    "The histogram above was created under the assumption that the total restaurant time would be a normal distribution. The sample mean of about 55 is represented by the red line. As can be seen by the density curve, the total restaurant time does have a similar shape to the normal distribution."
   ]
  },
  {
   "cell_type": "markdown",
   "metadata": {},
   "source": [
    "## Problem 4\n",
    "Assume for now, that the combined times are normally distributed [note that you will learn to fit distributions later in the course].  What is the probability that someone spends more than an hour in the restaurant?  What is the probability that someone spends less than half an hour in the restaurant?  How long should you plan for a diner to spend in the restaurant, such that 90% of diners will have completed their meal and left? "
   ]
  },
  {
   "cell_type": "markdown",
   "metadata": {},
   "source": [
    "a.) Probability someone spends more than an hour in the restaurant?"
   ]
  },
  {
   "cell_type": "markdown",
   "metadata": {},
   "source": [
    "To determine the probability someone spends more than an hour in the restaurant, we need to determine the probability that a random variable, X, is greater than 60 minutes or that P(X > 60).  This can be determined by: 1 - P(X < 60). We see below that P(X > 60) = approximately 35%. We would use the random variable set of the total time that we determined in Problem 3 for parts a through c of the problem"
   ]
  },
  {
   "cell_type": "code",
   "execution_count": 8,
   "metadata": {},
   "outputs": [
    {
     "name": "stdout",
     "output_type": "stream",
     "text": [
      "P(X > 60): 0.3479"
     ]
    }
   ],
   "source": [
    "#P(X > 60) = 1-P(X < 60)\n",
    "p4_a <- round(pnorm(60, mean = mean3, sd = stdv3, lower.tail = FALSE),digits = 5)\n",
    "cat(\"P(X > 60):\", p4_a)"
   ]
  },
  {
   "cell_type": "markdown",
   "metadata": {},
   "source": [
    "b.) Probability that someone spends less than half an hour in the restaurant?"
   ]
  },
  {
   "cell_type": "markdown",
   "metadata": {},
   "source": [
    "To determine the probability someone spends more than an hour in the restaurant, we need to determine the probability that a random variable, X, is less than 30 minutes or that P(X < 30).  We see below that P(X < 30) = approximately 0.69%."
   ]
  },
  {
   "cell_type": "code",
   "execution_count": 9,
   "metadata": {},
   "outputs": [
    {
     "name": "stdout",
     "output_type": "stream",
     "text": [
      "P(X < 30): 0.00694"
     ]
    }
   ],
   "source": [
    "#P(X < 30)\n",
    "p4_b <- round(pnorm(30, mean = mean3, sd = stdv3), digits = 5)\n",
    "cat(\"P(X < 30):\", p4_b)"
   ]
  },
  {
   "cell_type": "markdown",
   "metadata": {},
   "source": [
    "c.) How long should you plan for a dinner to spend in restaurant so 90% of diners have completed meal and left?"
   ]
  },
  {
   "cell_type": "markdown",
   "metadata": {},
   "source": [
    "We need to find the approximate number of minutes by which 90% of diners would have left the restaurant.  This would be the value of the random variable X, so that we have 90% of the area under the curve or that P(X < some value) = 90%. As we can see below if you spend about 69 minutes in the restaurant about 90% of the diners will have left the restaurant."
   ]
  },
  {
   "cell_type": "code",
   "execution_count": 10,
   "metadata": {},
   "outputs": [
    {
     "name": "stdout",
     "output_type": "stream",
     "text": [
      "Number of Minutes so that 90% of diners left restaurant:  69.37065\n",
      "(P < 69.37065 ):  0.9"
     ]
    }
   ],
   "source": [
    "#Minutes using sample average and standard deviation\n",
    "p4_c <- round(qnorm(0.90, mean = mean3, sd = stdv3), digits = 5)\n",
    "cat(\"Number of Minutes so that 90% of diners left restaurant: \", p4_c)\n",
    "\n",
    "#Checking the number of minutes determined is indeed 90% of the area under the curve\n",
    "p4_c_check <- round(pnorm(p4_c, mean = mean3, sd = stdv3), digits = 5)\n",
    "cat(\"\\n(P <\",p4_c,\"): \", p4_c_check)"
   ]
  },
  {
   "cell_type": "markdown",
   "metadata": {},
   "source": [
    "## References\n",
    "\n",
    "https://rpubs.com/rsshalini/109890#:~:text=The%20code%20for%20generating%20random,0.2%20for%20all%20the%20simulations.\n",
    "\n",
    "https://rstudio-pubs-static.s3.amazonaws.com/26693_e1151035722942b2813c0063c6b220ae.html\n",
    "\n",
    "https://stats.stackexchange.com/questions/171971/how-can-i-calculate-standard-deviation-step-by-step-in-r/171980"
   ]
  }
 ],
 "metadata": {
  "kernelspec": {
   "display_name": "R",
   "language": "R",
   "name": "ir"
  },
  "language_info": {
   "codemirror_mode": "r",
   "file_extension": ".r",
   "mimetype": "text/x-r-source",
   "name": "R",
   "pygments_lexer": "r",
   "version": "3.6.1"
  }
 },
 "nbformat": 4,
 "nbformat_minor": 4
}
