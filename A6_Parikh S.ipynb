{
 "cells": [
  {
   "cell_type": "markdown",
   "metadata": {},
   "source": [
    "# R Coding Assignment \\#6: Joint Distributed Random Variables"
   ]
  },
  {
   "cell_type": "markdown",
   "metadata": {},
   "source": [
    "### Sheetal Parikh\n",
    "EN.605.631.81<br>\n",
    "October 11, 2020\n",
    "***\n",
    "***"
   ]
  },
  {
   "cell_type": "markdown",
   "metadata": {},
   "source": [
    "## Problem 1\n",
    "Suppose that 15 percent of the families in a certain community have no children, 20 percent have 1 child, 35 percent have 2 children, and 30 percent have 3. Suppose further that in each family each child is equally likely (independently) to be a boy or a girl. If a family is chosen at random from this community, find the joint probability mass function of B and G, where B is boys and G is girls."
   ]
  },
  {
   "cell_type": "markdown",
   "metadata": {},
   "source": [
    "We are given the probability of each type of family of children.  We also know that there is an equal or 50% probability of the child being a boy or girl."
   ]
  },
  {
   "cell_type": "code",
   "execution_count": 1,
   "metadata": {},
   "outputs": [],
   "source": [
    "#assigning probabilities \n",
    "p_nochild <- 0.15\n",
    "p_1child <- 0.20\n",
    "p_2child <- 0.35\n",
    "p_3child <- 0.30\n",
    "\n",
    "p_gender <-0.50"
   ]
  },
  {
   "cell_type": "code",
   "execution_count": 3,
   "metadata": {},
   "outputs": [
    {
     "data": {
      "text/plain": [
       "Random variable with 16 outcomes\n",
       "\n",
       "Outcomes    0,0    0,1    0,2    0,3    1,0    1,1    1,2    1,3    2,0    2,1    2,2    2,3\n",
       "Probs     9/400  3/100 21/400  9/200  3/100   1/25  7/100   3/50 21/400  7/100 49/400 21/200\n",
       "\n",
       "Displaying first 12 outcomes"
      ]
     },
     "metadata": {},
     "output_type": "display_data"
    }
   ],
   "source": [
    "###determining joint pmf### \n",
    "\n",
    "#install.packages(\"discreteRV\")\n",
    "library(discreteRV)\n",
    "\n",
    "#probabilities for girls\n",
    "d <- RV(c(0:3), probs = c(0.15,.20,.35,.30))\n",
    "\n",
    "#probabilities for boys\n",
    "d1 <- RV(c(0:3), probs = c(0.15,.20,.35,.30))\n",
    "\n",
    "d2 <- joint(d,d1)\n",
    "d2"
   ]
  },
  {
   "cell_type": "markdown",
   "metadata": {},
   "source": [
    "Using the method above, we see that we are getting outcomes that are not possible.  The community does not have families with more than 3 children.  Therefore, if X = # of Girl Children and if Y = # Boy Children and we are determining P(X,Y), the following probabilities would be 0 since the number of children exceed 3: \n",
    "P(3,1) = P(3,2) = P(3,3) = P(1,3) = P(2,2) = P(2,3) = 0\n",
    "\n",
    "We can find the updated probabilities using the method below:"
   ]
  },
  {
   "cell_type": "code",
   "execution_count": 4,
   "metadata": {},
   "outputs": [
    {
     "data": {
      "text/html": [
       "1"
      ],
      "text/latex": [
       "1"
      ],
      "text/markdown": [
       "1"
      ],
      "text/plain": [
       "[1] 1"
      ]
     },
     "metadata": {},
     "output_type": "display_data"
    }
   ],
   "source": [
    "#We cannot have more than 3 children.  Therefore, only the following possible ways are possible: where x = girls \n",
    "#and y = boys\n",
    "\n",
    "p_00 <- p_nochild               #p(0,0) - no children \n",
    "p_01 <- p_1child*p_gender       #p(0,1) - P(1 boy and 1 child total) = P(1 child)P(1 boy|1child)\n",
    "p_02 <- p_2child*p_gender^2     #p(0,2) - P(2 boys and 2 children total) = P(2 child)P(2 boys|2 child)\n",
    "p_03 <- p_3child*p_gender^3     #p(0,3) - P(3 boys and 3 children total) = P(3 child)P(3 boys|3children)\n",
    "p_10 <- p_1child*p_gender       #p(1,0) - P(1 girl and 1 child total) = P(1 child)P(1 girl|1child)\n",
    "p_11 <- 2*p_2child*p_gender^2   #p(1,1) - P(1 boy and 1 boy and 2 children total) = 2*P(2 child)P(1 girl and 1 boy|2child)\n",
    "p_12 <- 3*p_3child*p_gender^3   #p(1,2) - P(1 girl and 2 boys and 3 children total) = 3*P(3 child)P(1 girl and 2 Boys|3child)\n",
    "p_20 <- p_2child*p_gender^2     #p(2,0) - P(2 girls and 2 children total) = P(2 child)P(2 girls|2child)\n",
    "p_21 <- 3*p_3child*p_gender^3   #p(2,1) - P(2 girls and 1 boy and 3 children total) = P(3 child)P(2 girls and 1 boy|3child)\n",
    "p_30 <- p_3child*p_gender^3     #p(3,0) - P(3 girls and  children total) = P(3 child)P(3 girls|3child)\n",
    "p_31 <- 0\n",
    "p_22 <- 0\n",
    "p_32 <- 0\n",
    "p_23 <- 0\n",
    "p_33 <- 0\n",
    "p_13 <- 0\n",
    "\n",
    "#checking that we have a pmf if the probabilities add to 1\n",
    "tot <- p_00 + p_01 + p_02 + p_03 + p_10 + p_11 + p_12 + p_20 + p_21 + p_30 + p_31 + p_22 + p_32 + p_23 + p_33 + p_13\n",
    "tot"
   ]
  },
  {
   "cell_type": "code",
   "execution_count": 10,
   "metadata": {},
   "outputs": [
    {
     "data": {
      "text/html": [
       "<table>\n",
       "<thead><tr><th></th><th scope=col>1_Girl</th><th scope=col>2_Girls</th><th scope=col>3_Girls</th><th scope=col>4_Girls</th><th scope=col>total</th></tr></thead>\n",
       "<tbody>\n",
       "\t<tr><th scope=row>1_Boy</th><td>0.1500</td><td>0.1000</td><td>0.0875</td><td>0.0375</td><td>0.3750</td></tr>\n",
       "\t<tr><th scope=row>2_Boys</th><td>0.1000</td><td>0.1750</td><td>0.1125</td><td>0.0000</td><td>0.3875</td></tr>\n",
       "\t<tr><th scope=row>3_Boys</th><td>0.0875</td><td>0.1125</td><td>0.0000</td><td>0.0000</td><td>0.2000</td></tr>\n",
       "\t<tr><th scope=row>4_Boys</th><td>0.0375</td><td>0.0000</td><td>0.0000</td><td>0.0000</td><td>0.0375</td></tr>\n",
       "\t<tr><th scope=row>total</th><td>0.3750</td><td>0.3875</td><td>0.2000</td><td>0.0375</td><td>1.0000</td></tr>\n",
       "</tbody>\n",
       "</table>\n"
      ],
      "text/latex": [
       "\\begin{tabular}{r|lllll}\n",
       "  & 1\\_Girl & 2\\_Girls & 3\\_Girls & 4\\_Girls & total\\\\\n",
       "\\hline\n",
       "\t1\\_Boy & 0.1500 & 0.1000 & 0.0875 & 0.0375 & 0.3750\\\\\n",
       "\t2\\_Boys & 0.1000 & 0.1750 & 0.1125 & 0.0000 & 0.3875\\\\\n",
       "\t3\\_Boys & 0.0875 & 0.1125 & 0.0000 & 0.0000 & 0.2000\\\\\n",
       "\t4\\_Boys & 0.0375 & 0.0000 & 0.0000 & 0.0000 & 0.0375\\\\\n",
       "\ttotal & 0.3750 & 0.3875 & 0.2000 & 0.0375 & 1.0000\\\\\n",
       "\\end{tabular}\n"
      ],
      "text/markdown": [
       "\n",
       "| <!--/--> | 1_Girl | 2_Girls | 3_Girls | 4_Girls | total |\n",
       "|---|---|---|---|---|---|\n",
       "| 1_Boy | 0.1500 | 0.1000 | 0.0875 | 0.0375 | 0.3750 |\n",
       "| 2_Boys | 0.1000 | 0.1750 | 0.1125 | 0.0000 | 0.3875 |\n",
       "| 3_Boys | 0.0875 | 0.1125 | 0.0000 | 0.0000 | 0.2000 |\n",
       "| 4_Boys | 0.0375 | 0.0000 | 0.0000 | 0.0000 | 0.0375 |\n",
       "| total | 0.3750 | 0.3875 | 0.2000 | 0.0375 | 1.0000 |\n",
       "\n"
      ],
      "text/plain": [
       "       1_Girl 2_Girls 3_Girls 4_Girls total \n",
       "1_Boy  0.1500 0.1000  0.0875  0.0375  0.3750\n",
       "2_Boys 0.1000 0.1750  0.1125  0.0000  0.3875\n",
       "3_Boys 0.0875 0.1125  0.0000  0.0000  0.2000\n",
       "4_Boys 0.0375 0.0000  0.0000  0.0000  0.0375\n",
       "total  0.3750 0.3875  0.2000  0.0375  1.0000"
      ]
     },
     "metadata": {},
     "output_type": "display_data"
    }
   ],
   "source": [
    "#adding probabilities of each type of family to matrix\n",
    "families = matrix(c(p_00,p_01,p_02,p_03,p_10,p_11,p_12,p_13,p_20,p_21,p_22,p_23,p_30,p_31,p_32,p_33), nrow=4, ncol=4,byrow=TRUE)\n",
    "\n",
    "#adding column and row names\n",
    "dimnames(families) = list(c(\"1_Boy\",\"2_Boys\",\"3_Boys\",\"4_Boys\"),\n",
    "                          c(\"1_Girl\",\"2_Girls\",\"3_Girls\",\"4_Girls\"))\n",
    "\n",
    "#adding row of totals\n",
    "families2 <- cbind(families, total = rowSums(families))\n",
    "\n",
    "#adding column of totals\n",
    "families_jpmf <- rbind(families2, total = colSums(families2))\n",
    "families_jpmf"
   ]
  },
  {
   "cell_type": "markdown",
   "metadata": {},
   "source": [
    "## Problem 2\n",
    "A new start up company that services HVAC systems in college dorms is interested in how long the technicians are taking to schedule and fill a service call. Specifically, the company is interested in how long a technician takes on a dorm visit and knows that this mainly depends on the number of units at that particular location. If the random variable X represent the number of hours (1, 2, 3, or 4) at a location and the random variable Y is the number of units (1, 2, or 3) there, then the two variables can be thought of as jointly distributed.\n",
    "\n",
    "Probability Mass Function\n",
    "   \n",
    "   0.12\t   0.08\t  0.07\t  0.05\n",
    "\n",
    "   0.08\t   0.15\t  0.21\t  0.13\n",
    "\n",
    "   0.01\t   0.01\t  0.02\t  0.07\n",
    "\n",
    "Write a function in R that takes as Input the number of hours (X) and the number of units (Y) and Outputs the probability that a location has no more than Y units that take no more then X hours to service."
   ]
  },
  {
   "cell_type": "markdown",
   "metadata": {},
   "source": [
    "We are already given the joint probability mass function which can be viewed as a matrix as shown below."
   ]
  },
  {
   "cell_type": "code",
   "execution_count": 5,
   "metadata": {
    "scrolled": true
   },
   "outputs": [
    {
     "data": {
      "text/html": [
       "<table>\n",
       "<thead><tr><th></th><th scope=col>x= 1</th><th scope=col>x= 2</th><th scope=col>x= 3</th><th scope=col>x= 4</th></tr></thead>\n",
       "<tbody>\n",
       "\t<tr><th scope=row>y= 1</th><td>0.12</td><td>0.08</td><td>0.07</td><td>0.05</td></tr>\n",
       "\t<tr><th scope=row>y= 2</th><td>0.08</td><td>0.15</td><td>0.21</td><td>0.13</td></tr>\n",
       "\t<tr><th scope=row>y= 3</th><td>0.01</td><td>0.01</td><td>0.02</td><td>0.07</td></tr>\n",
       "</tbody>\n",
       "</table>\n"
      ],
      "text/latex": [
       "\\begin{tabular}{r|llll}\n",
       "  & x= 1 & x= 2 & x= 3 & x= 4\\\\\n",
       "\\hline\n",
       "\ty= 1 & 0.12 & 0.08 & 0.07 & 0.05\\\\\n",
       "\ty= 2 & 0.08 & 0.15 & 0.21 & 0.13\\\\\n",
       "\ty= 3 & 0.01 & 0.01 & 0.02 & 0.07\\\\\n",
       "\\end{tabular}\n"
      ],
      "text/markdown": [
       "\n",
       "| <!--/--> | x= 1 | x= 2 | x= 3 | x= 4 |\n",
       "|---|---|---|---|---|\n",
       "| y= 1 | 0.12 | 0.08 | 0.07 | 0.05 |\n",
       "| y= 2 | 0.08 | 0.15 | 0.21 | 0.13 |\n",
       "| y= 3 | 0.01 | 0.01 | 0.02 | 0.07 |\n",
       "\n"
      ],
      "text/plain": [
       "     x= 1 x= 2 x= 3 x= 4\n",
       "y= 1 0.12 0.08 0.07 0.05\n",
       "y= 2 0.08 0.15 0.21 0.13\n",
       "y= 3 0.01 0.01 0.02 0.07"
      ]
     },
     "metadata": {},
     "output_type": "display_data"
    }
   ],
   "source": [
    "#creating hvac matrix\n",
    "hvac <- matrix(c(.12,.08,.01,.08,.15,.01,.07,.21,.02,.05,.13,.07),ncol=4)\n",
    "\n",
    "#adding labels for row and column\n",
    "rownames(hvac) <- rownames(hvac, do.NULL = FALSE, prefix = \"y= \")\n",
    "colnames(hvac) <- colnames(hvac, do.NULL = FALSE, prefix = \"x= \")\n",
    "\n",
    "#printing joint probability mass function\n",
    "hvac\n"
   ]
  },
  {
   "cell_type": "markdown",
   "metadata": {},
   "source": [
    "We need to write a function that takes input of the Hours(X) and the number of Units(Y) and gives us an output of the probability, P(X<=x,Y<=y).  In order to determine the probability P(X<=x,Y<=y), the function would need to determine the cumulative probabilities of the matrix where X<=x and Y<=y. The function can copy the original joint probability matrix and then remove the rows and columns that are greater than the inputs x and y. The function would also then print out the total sum of the remaining matrix to determine the probability."
   ]
  },
  {
   "cell_type": "code",
   "execution_count": 6,
   "metadata": {},
   "outputs": [],
   "source": [
    "############function for computing probability##############\n",
    "\n",
    "computeprob <- function(x,y) {\n",
    "    #determining length of rows and columns ; we know the length of columns is 4(x-values) and \n",
    "    # the length of rows is 4 (y-values)\n",
    "    yi <- nrow(hvac)    \n",
    "    xi <- ncol(hvac)\n",
    "    \n",
    "  #if the number of hours(x) is less than 1 or units(y) is less than 1 the probability would be 0   \n",
    "    if (x < 1 || y < 1) {\n",
    "        s <- 0\n",
    "  #if input is in range, then the hvac matrix will be copied and the rows or columns greater than x+1 and y+1 will be deleted \n",
    "  # from the new copied matrix. We will take the sum of the resulting matrix.\n",
    "    } else {\n",
    "      hvac2 <- hvac[-(y+1:yi), -(x+1:xi)]   \n",
    "      s <- sum(hvac2)\n",
    "    }\n",
    "    #printing output probability\n",
    "  cat(\"P(X <=\",x,\", Y <=\", y,\"): \", s,\"\\n\")\n",
    "}"
   ]
  },
  {
   "cell_type": "markdown",
   "metadata": {},
   "source": [
    "Computing example probabilities to test out the function computeprob:\n",
    "\n",
    "P(X<=0, Y<=0) = 0\n",
    "\n",
    "P(X<=3, Y<=4) = 1- 0.05 - 0.13 - 0.07 = 0.75\n",
    "\n",
    "P(X<=3, Y<=1) = 0.12 + 0.08 + 0.07 = 0.27\n",
    "\n",
    "P(X<=2, Y<=2) = 0.12 + 0.08 + 0.08 + 0.15 = 0.43\n",
    "\n",
    "P(X<=4, Y<=3) = 0.12 + 0.08 + 0.01 + 0.08 + 0.15 + 0.01 + 0.07 + 0.21 + 0.02 + 0.05 + 0.13 + 0.07 = 1\n",
    "\n",
    "P(X<=5, Y<=5) = 0.12 + 0.08 + 0.01 + 0.08 + 0.15 + 0.01 + 0.07 + 0.21 + 0.02 + 0.05 + 0.13 + 0.07 = 1\n"
   ]
  },
  {
   "cell_type": "code",
   "execution_count": 7,
   "metadata": {},
   "outputs": [
    {
     "name": "stdout",
     "output_type": "stream",
     "text": [
      "P(X <= 0 , Y <= 0 ):  0 \n",
      "P(X <= 3 , Y <= 4 ):  0.75 \n",
      "P(X <= 3 , Y <= 1 ):  0.27 \n",
      "P(X <= 2 , Y <= 2 ):  0.43 \n",
      "P(X <= 4 , Y <= 3 ):  1 \n",
      "P(X <= 5 , Y <= 5 ):  1 \n"
     ]
    }
   ],
   "source": [
    "computeprob(0,0)\n",
    "\n",
    "computeprob(3,4) \n",
    "\n",
    "computeprob(3,1) \n",
    "\n",
    "computeprob(2,2) \n",
    "\n",
    "computeprob(4,3) \n",
    "\n",
    "computeprob(5,5) "
   ]
  },
  {
   "cell_type": "markdown",
   "metadata": {},
   "source": [
    "## References\n",
    "\n",
    "https://stat.ethz.ch/R-manual/R-devel/library/base/html/nrow.html\n",
    "\n",
    "https://www.dummies.com/programming/r/how-to-name-matrix-rows-and-columns-in-r/\n",
    "\n",
    "https://stackoverflow.com/questions/12919984/how-to-delete-specific-rows-and-columns-from-a-matrix-in-a-smarter-way\n",
    "\n",
    "https://rstudio-pubs-static.s3.amazonaws.com/209289_9f9ba331cccc4e8f8aabdb9273cc76af.html\n",
    "\n",
    "https://data-flair.training/blogs/r-contingency-tables/"
   ]
  }
 ],
 "metadata": {
  "kernelspec": {
   "display_name": "R",
   "language": "R",
   "name": "ir"
  },
  "language_info": {
   "codemirror_mode": "r",
   "file_extension": ".r",
   "mimetype": "text/x-r-source",
   "name": "R",
   "pygments_lexer": "r",
   "version": "3.6.1"
  }
 },
 "nbformat": 4,
 "nbformat_minor": 4
}
