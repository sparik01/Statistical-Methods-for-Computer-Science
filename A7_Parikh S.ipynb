{
 "cells": [
  {
   "cell_type": "markdown",
   "metadata": {},
   "source": [
    "# R Coding Assignment \\#7: Expectation"
   ]
  },
  {
   "cell_type": "markdown",
   "metadata": {},
   "source": [
    "### Sheetal Parikh\n",
    "EN.605.631.81<br>\n",
    "October 18, 2020\n",
    "***\n",
    "***"
   ]
  },
  {
   "cell_type": "markdown",
   "metadata": {},
   "source": [
    "## Problem 1\n",
    "\n",
    "In Arlington, VA the cost of a parking citation is 40 dollars.  Parking attendants who look for those who park illegally and write citations vary their routes.  The time between a parking attendant visiting the same spot twice follows a uniform distribution with an expected time of 6 hours.  Assume the cost of parking is 3 dollars/hour.\n",
    "\n",
    "a.) If you parked illegally for 5 hours, what is the probability that you receive a citation?\n",
    "\n",
    "b.) If you parked illegally for 5 hours, what is the expected cost for your parking?\n",
    "\n",
    "c.) If you parked legally for 5 hours, what is the cost of your parking?\n",
    "\n",
    "d.) Does it make sense to pay for parking?"
   ]
  },
  {
   "cell_type": "markdown",
   "metadata": {},
   "source": [
    "We are given the expected time of the parking attendant visiting the same spot twice is 6 hours and is a uniform distribution. Therefore, if T = the time that the parking attendant checks the parked cars for citations, then E[T] = 6.  Because we are given that T is a uniform distribution we know that E[T] = (a + b)/2 = 6. If we solve for the a + b, we get that a + b = 12.  The 12 hours represents the number of hours that the parking attendant enforces the parking rules.  For all the questions, we are assuming that the attendant can write one citation to an illegally parked car at any time within these 12 hours."
   ]
  },
  {
   "cell_type": "markdown",
   "metadata": {},
   "source": [
    "a.) If you parked illegally for 5 hours, what is the probability that you receive a citation? \n",
    "\n",
    "We need to first find the pdf.  The pdf of T is 1/12 because we know that T is a uniform distribution and we determined above that you can receive a citation within the 12 hour duration that the parking attendant checks the parked cars.  In order to find the probability that a car that parked illegally for 5 hours receives a citation, we are determining the probability that the parking attendant checks the parked cars during a 5 hour period which would be the area under the distribution from times 0  to 5.  Because T is a uniform distribution, the probability is for any five hour period which is equally likely. For example, the probability of a car being checked between 8am - 1pm would be the same as the probability of a car being checked between 1pm to 6pm.  \n",
    "\n",
    "As seen below, the probability of receiving a citation if you parked illegally for 5 hours is determined to be 5/12 = 0.4167."
   ]
  },
  {
   "cell_type": "code",
   "execution_count": 1,
   "metadata": {},
   "outputs": [
    {
     "name": "stdout",
     "output_type": "stream",
     "text": [
      "P(T<5):  0.4166667"
     ]
    }
   ],
   "source": [
    "####Finding P(0<T<5) = P(T<5)####\n",
    "\n",
    "#parking duration of 5 hours\n",
    "t <- 5\n",
    "\n",
    "#range of time that parking attendant checks the parked cars\n",
    "a <-0\n",
    "b <-12\n",
    "\n",
    "#P(T<5)\n",
    "p_5 <-punif(t,a,b)\n",
    "cat(\"P(T<5): \",p_5)"
   ]
  },
  {
   "cell_type": "markdown",
   "metadata": {},
   "source": [
    "Below we can see how we could visualize the probability that you recived a citation if parking illegally for 5 hours."
   ]
  },
  {
   "cell_type": "code",
   "execution_count": 2,
   "metadata": {},
   "outputs": [
    {
     "data": {
      "image/png": "[encoded data removed]",
      "text/plain": [
       "Plot with title \"Uniform Distribution T~(0,12)\""
      ]
     },
     "metadata": {},
     "output_type": "display_data"
    }
   ],
   "source": [
    "#Plotting the uniform distribution\n",
    "x = seq(a,b,0.01)\n",
    "y = dunif(x,a,b)\n",
    "\n",
    "#adding line at 1/(b-a) = 1/12\n",
    "plot(x, y, type=\"l\", ylim=c(0,max(y)+0.1), main=\"Uniform Distribution T~(0,12)\",\n",
    "    xlab=\"time(hours)\", ylab = \"F(t)\")\n",
    "\n",
    "#adding area under the curve at P(T<5)\n",
    "cord.a = c(a, seq(a, t, 0.01), t)\n",
    "cord.b = c(0, dunif(seq(a, t, 0.01), a, b), 0)\n",
    "polygon(cord.a, cord.b, col=\"cornflowerblue\")\n"
   ]
  },
  {
   "cell_type": "markdown",
   "metadata": {},
   "source": [
    "b.) If you parked illegally for 5 hours, what is the expected cost for your parking?\n",
    "\n",
    "The expected cost of your parking for parking illegally would the probability you received a citation times the cost of the citation(40 dollars) plus the probability you didn't receive the citation times 0 (since you didn't pay for parking): P(T<5) * 40 + (1-P(T<5))* 0 = 16.67"
   ]
  },
  {
   "cell_type": "code",
   "execution_count": 3,
   "metadata": {},
   "outputs": [
    {
     "name": "stdout",
     "output_type": "stream",
     "text": [
      "Expected cost of parking illegally:  16.67"
     ]
    }
   ],
   "source": [
    "#Finding Expected Cost of Parking\n",
    "citation <- 40\n",
    "\n",
    "expectedCost <- round(p_5 * citation,2)\n",
    "\n",
    "cat(\"Expected cost of parking illegally: \", expectedCost)"
   ]
  },
  {
   "cell_type": "markdown",
   "metadata": {},
   "source": [
    "c.) If you parked legally for 5 hours, what is the cost of your parking?\n",
    "\n",
    "We are given that parking legally is 3 dollar/hour.  Therefore, if you park for 5 hours, your total cost of parking would be\n",
    "3 * 5 = 15 dollars"
   ]
  },
  {
   "cell_type": "code",
   "execution_count": 4,
   "metadata": {},
   "outputs": [
    {
     "name": "stdout",
     "output_type": "stream",
     "text": [
      "Total Cost for Parking Legally: $ 15"
     ]
    }
   ],
   "source": [
    "#Finding Cost of Parking if parked legally\n",
    "parking <- 3\n",
    "duration <- 5\n",
    "\n",
    "legalcost<- parking * duration\n",
    "\n",
    "cat(\"Total Cost for Parking Legally: $\", legalcost)"
   ]
  },
  {
   "cell_type": "markdown",
   "metadata": {},
   "source": [
    "d.) Does it make sense to pay for parking?\n",
    "\n",
    "For a duration of 5 hours, it does make sense to pay for parking as the expected cost of parking illegally will always be greater than the total cost of parking legally.  As can be seen in the examples printed below for problem 2, even with a duration of 12 hours, the expected cost of parking illegaly is still greater than parking legally.  As the hourly cost of parking legally increases, it makes more sense to park illegally.  For example, as seen below in the printed examples for problem 2, if the hourly cost of parking legally is 10 dollars and the cost of a citation stays the same at 40 dollars, it makes more sense to park illegally as the expected cost of parking illegally is smaller than the cost of parking legally."
   ]
  },
  {
   "cell_type": "markdown",
   "metadata": {},
   "source": [
    "## Problem 2\n",
    "Write a function in R to calculate the expected cost you will pay to park illegally.  Your function should allow you to input the parking duration and the cost to park per hour.  Your function should output the expected cost for parking legally and illegally.  Make the cost of a citation a hard-coded variable in your function."
   ]
  },
  {
   "cell_type": "markdown",
   "metadata": {},
   "source": [
    "For the function, we are assuming the cost of parking for a single day (12-hour period)"
   ]
  },
  {
   "cell_type": "code",
   "execution_count": 5,
   "metadata": {},
   "outputs": [],
   "source": [
    "#function for expected cost to park illegally and cost to park legally\n",
    "\n",
    "# e = parking duration\n",
    "# f = cost to park per hour\n",
    "# g = 40 : It costs $40 for a citation\n",
    "calcCost <- function(e,f,g = 40){\n",
    "    a <- 0\n",
    "    b <- 12\n",
    "        #cost 0 if negative duration or cost entered\n",
    "        if (e < 0 || f < 0){\n",
    "            legalcost <- 0\n",
    "            illegalcost <- 0\n",
    "        #capping parking cost at a duration of 12    \n",
    "        } else if(e > 12){\n",
    "            prob <-punif(12,a,b)\n",
    "            legalcost <- f*12\n",
    "            illegalcost <- round(prob*g,2)  \n",
    "        #calculating    \n",
    "        } else {\n",
    "            a <- 0\n",
    "            b <- 12\n",
    "            prob <-punif(e,a,b)\n",
    "            legalcost <- f*e\n",
    "            illegalcost <- round(prob*g,2)\n",
    "        }\n",
    "        cat(\"Parking Duration: \",e, \"hours\")\n",
    "        cat(\"\\nCost to Park per Hour: $\",f)\n",
    "        cat(\"\\nCost for Parking Legally: $\", legalcost)\n",
    "        cat(\"\\nExpected Cost for Parking Illegally: $\", illegalcost,\"\\n\\n\")\n",
    "}"
   ]
  },
  {
   "cell_type": "markdown",
   "metadata": {},
   "source": [
    "When we test out the function, we see that we get the same values we calculated for problem.  Also from the examples below, we see that if the cost of hourly parking increases (and the cost of a citation stays the same), it makes more sense to not pay for parking. If a negative duration or parking cost is entered, the function outputs a total legal and expected illegal cost of 0.  "
   ]
  },
  {
   "cell_type": "code",
   "execution_count": 6,
   "metadata": {},
   "outputs": [
    {
     "name": "stdout",
     "output_type": "stream",
     "text": [
      "Parking Duration:  5 hours\n",
      "Cost to Park per Hour: $ 3\n",
      "Cost for Parking Legally: $ 15\n",
      "Expected Cost for Parking Illegally: $ 16.67 \n",
      "\n",
      "Parking Duration:  12 hours\n",
      "Cost to Park per Hour: $ 3\n",
      "Cost for Parking Legally: $ 36\n",
      "Expected Cost for Parking Illegally: $ 40 \n",
      "\n",
      "Parking Duration:  15 hours\n",
      "Cost to Park per Hour: $ 3\n",
      "Cost for Parking Legally: $ 36\n",
      "Expected Cost for Parking Illegally: $ 40 \n",
      "\n",
      "Parking Duration:  6 hours\n",
      "Cost to Park per Hour: $ 10\n",
      "Cost for Parking Legally: $ 60\n",
      "Expected Cost for Parking Illegally: $ 20 \n",
      "\n",
      "Parking Duration:  1 hours\n",
      "Cost to Park per Hour: $ 10\n",
      "Cost for Parking Legally: $ 10\n",
      "Expected Cost for Parking Illegally: $ 3.33 \n",
      "\n",
      "Parking Duration:  -6 hours\n",
      "Cost to Park per Hour: $ 10\n",
      "Cost for Parking Legally: $ 0\n",
      "Expected Cost for Parking Illegally: $ 0 \n",
      "\n",
      "Parking Duration:  6 hours\n",
      "Cost to Park per Hour: $ -10\n",
      "Cost for Parking Legally: $ 0\n",
      "Expected Cost for Parking Illegally: $ 0 \n",
      "\n"
     ]
    }
   ],
   "source": [
    "#testing function with values from problem 1: cost to park is $3/hour and parking duration is 5 hours\n",
    "calcCost(5,3)\n",
    "\n",
    "calcCost(12,3)\n",
    "\n",
    "#if duration longer than 12 hours, function caps parking cost for 12 hours\n",
    "calcCost(15,3)\n",
    "\n",
    "#example for Problem 1d\n",
    "calcCost(6,10)\n",
    "\n",
    "#example for Problem 1d\n",
    "calcCost(1,10)\n",
    "\n",
    "#if negative duration, function outputs a total legal cost and illegal expected cost of 0\n",
    "calcCost(-6,10)\n",
    "\n",
    "#if negative parking cost, function outputs a total legal cost and illegal expected cost of 0\n",
    "calcCost(6,-10)"
   ]
  },
  {
   "cell_type": "markdown",
   "metadata": {},
   "source": [
    "## References\n",
    "\n",
    "Uniform Distribution R Tutorial:\n",
    "https://www.youtube.com/watch?v=i6WYqQ-yQCA"
   ]
  }
 ],
 "metadata": {
  "kernelspec": {
   "display_name": "R",
   "language": "R",
   "name": "ir"
  },
  "language_info": {
   "codemirror_mode": "r",
   "file_extension": ".r",
   "mimetype": "text/x-r-source",
   "name": "R",
   "pygments_lexer": "r",
   "version": "3.6.1"
  }
 },
 "nbformat": 4,
 "nbformat_minor": 4
}
