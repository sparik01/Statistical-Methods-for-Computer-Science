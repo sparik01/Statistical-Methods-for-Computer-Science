{
 "cells": [
  {
   "cell_type": "markdown",
   "metadata": {},
   "source": [
    "# R Coding Assignment \\#8: Inequalities and Central Limit Theorem"
   ]
  },
  {
   "cell_type": "markdown",
   "metadata": {},
   "source": [
    "### Sheetal Parikh\n",
    "EN.605.631.81<br>\n",
    "October 25, 2020\n",
    "***\n",
    "***"
   ]
  },
  {
   "cell_type": "markdown",
   "metadata": {},
   "source": [
    "## Problem 1\n",
    "\n",
    "A medical journal finds that men over age 50 have a mean cholesterol (HDL) of 53 with a standard deviation of 15.  A physician in a local community has 40 patients over the age of 50 and would like to know if there is increased risk for high cholesterol.\n",
    "\n",
    "a.) What is the probability that the sample mean of the male community population over 50 would exceed 60 mg/dl?\n",
    "\n",
    "b.) What is the probability that the sample mean of the male community population over 50 would be less than 50 mg/dl?\n",
    "\n",
    "b.) What is the probability that the sample mean of the male community population over 50 would be low risk (e.g. less than 40 mg/dl)?\n",
    "\n",
    "d.) Plot a distribution of the sample mean, such that the region indicating the probability the sample mean is less than 50 mg/dl is shaded a color of your choosing."
   ]
  },
  {
   "cell_type": "markdown",
   "metadata": {},
   "source": [
    "We are given that the mean HDL cholesterol is 53 mg/dl, u = 53, and the standard deviation is 15, sd = 15.  Also, the sample size is n = 40.  Therefore, we need to find the sample mean and sample distribution which will be needed for parts a through b.  Assuming that X = HDL cholesterol level is a normal distribution, we can use the formula sd/((n)^1/2) to find the standard deviation(sd_x): sd_x = 15/(40)^1/2 = 2.3717.  The mean cholesterol will be the sample mean as well: u = u_x = 53. For parts a through b, we can then use the values of the sample mean and sample standard deviation to find the probabilities which is the area under the curve within the range in question."
   ]
  },
  {
   "cell_type": "code",
   "execution_count": 1,
   "metadata": {},
   "outputs": [
    {
     "name": "stdout",
     "output_type": "stream",
     "text": [
      "Sample Standard Deviation = sd_x =  2.3717 \n",
      "Sample Mean = u_p1_x =  53"
     ]
    }
   ],
   "source": [
    "#setting sample mean\n",
    "u_p1 <- 53\n",
    "u_p1_x <- u_p1\n",
    "\n",
    "#setting sample population\n",
    "n_p1 <- 40\n",
    "\n",
    "#setting standard deviation\n",
    "sd_p1 <- 15\n",
    "\n",
    "#sample standard deviation function\n",
    "sd_x <- function(sd,n) {\n",
    "    sd_bar <- round(sd/sqrt(n),4)\n",
    "    return(sd_bar)\n",
    "}\n",
    "\n",
    "#printing sample standard deviation and sample mean\n",
    "sd_p1_x <- sd_x(sd_p1,n_p1)\n",
    "cat(\"Sample Standard Deviation = sd_x = \",sd_p1_x,\"\\n\")\n",
    "cat(\"Sample Mean = u_p1_x = \", u_p1_x)"
   ]
  },
  {
   "cell_type": "markdown",
   "metadata": {},
   "source": [
    "a.) What is the probability that the sample mean of the male community population over 50 would exceed 60 mg/dl?"
   ]
  },
  {
   "cell_type": "code",
   "execution_count": 2,
   "metadata": {},
   "outputs": [
    {
     "data": {
      "text/html": [
       "0.00158133"
      ],
      "text/latex": [
       "0.00158133"
      ],
      "text/markdown": [
       "0.00158133"
      ],
      "text/plain": [
       "[1] 0.00158133"
      ]
     },
     "metadata": {},
     "output_type": "display_data"
    }
   ],
   "source": [
    "#P(X>60)\n",
    "round(pnorm(60, mean = u_p1_x, sd = sd_p1_x, lower.tail=FALSE),8)"
   ]
  },
  {
   "cell_type": "markdown",
   "metadata": {},
   "source": [
    "b.) What is the probability that the sample mean of the male community population over 50 would be less than 50 mg/dl?"
   ]
  },
  {
   "cell_type": "code",
   "execution_count": 4,
   "metadata": {},
   "outputs": [
    {
     "data": {
      "text/html": [
       "0.10295082"
      ],
      "text/latex": [
       "0.10295082"
      ],
      "text/markdown": [
       "0.10295082"
      ],
      "text/plain": [
       "[1] 0.1029508"
      ]
     },
     "metadata": {},
     "output_type": "display_data"
    }
   ],
   "source": [
    "#P(X<50)\n",
    "prob_b <- round(pnorm(50, mean = u_p1_x, sd = sd_p1_x, lower.tail=TRUE),8)\n",
    "prob_b"
   ]
  },
  {
   "cell_type": "markdown",
   "metadata": {},
   "source": [
    "c.) What is the probability that the sample mean of the male community population over 50 would be low risk (e.g. less than 40 mg/dl)?"
   ]
  },
  {
   "cell_type": "markdown",
   "metadata": {},
   "source": [
    "We can assume this probability will be extremely low around 0.  A sample mean less than 40 mg/dl would be a value that is more than 5 standard deviations less than the population mean value of 53.  A value of 40 is not even shown in the bell curve below for part d due to the small probability. However, if we visualize the the value of 40 in the bell curve, it is very visible how the probability would be approximately 0."
   ]
  },
  {
   "cell_type": "code",
   "execution_count": 3,
   "metadata": {},
   "outputs": [
    {
     "data": {
      "text/html": [
       "2e-08"
      ],
      "text/latex": [
       "2e-08"
      ],
      "text/markdown": [
       "2e-08"
      ],
      "text/plain": [
       "[1] 2e-08"
      ]
     },
     "metadata": {},
     "output_type": "display_data"
    }
   ],
   "source": [
    "#P(X<40)\n",
    "round(pnorm(40, mean = u_p1_x, sd = sd_p1_x, lower.tail=TRUE),8)"
   ]
  },
  {
   "cell_type": "code",
   "execution_count": 4,
   "metadata": {},
   "outputs": [
    {
     "data": {
      "image/png": "[encoded data removed]",
      "text/plain": [
       "Plot with title \"Distribution of Sample Mean\""
      ]
     },
     "metadata": {},
     "output_type": "display_data"
    }
   ],
   "source": [
    "x=seq(38,68,length=50)\n",
    "y=dnorm(x,mean=u_p1_x,sd=sd_p1_x)\n",
    "plot(x,y,type=\"l\", main=\"Distribution of Sample Mean\", xlab=\"HDL Cholesterol\", ylab=\"Probability Density\") \n",
    "x=seq(38,40,length=50)\n",
    "y=dnorm(x,mean=u_p1_x,sd=sd_p1_x)\n",
    "polygon(c(38,x,40),c(0,y,0),col=\"skyblue2\")"
   ]
  },
  {
   "cell_type": "markdown",
   "metadata": {},
   "source": [
    "d.) Plot a distribution of the sample mean, such that the region indicating the probability the sample mean is less than 50 mg/dl is shaded a color of your choosing."
   ]
  },
  {
   "cell_type": "code",
   "execution_count": 5,
   "metadata": {},
   "outputs": [
    {
     "ename": "ERROR",
     "evalue": "Error in as.graphicsAnnot(labels): object 'prob_b' not found\n",
     "output_type": "error",
     "traceback": [
      "Error in as.graphicsAnnot(labels): object 'prob_b' not found\nTraceback:\n",
      "1. text(47, 0.07, prob_b)",
      "2. text.default(47, 0.07, prob_b)",
      "3. as.graphicsAnnot(labels)"
     ]
    },
    {
     "data": {
      "image/png": "[encoded data removed]",
      "text/plain": [
       "Plot with title \"Distribution of Sample Mean\""
      ]
     },
     "metadata": {},
     "output_type": "display_data"
    }
   ],
   "source": [
    "#setting up the bell curve\n",
    "x=seq(round(u_p1_x-4*sd_p1_x,0),round(u_p1_x+4*sd_p1_x,0),length=50)\n",
    "y=dnorm(x,mean=u_p1_x,sd=sd_p1_x)\n",
    "plot(x,y,type=\"l\", main=\"Distribution of Sample Mean\", xlab=\"HDL Cholesterol\", ylab=\"Probability Density\") \n",
    "x=seq(round(u_p1_x-4*sd_p1_x,0),50,length=50)\n",
    "y=dnorm(x,mean=u_p1_x,sd=sd_p1_x)\n",
    "polygon(c(round(u_p1_x-4*sd_p1_x,0),x,50),c(0,y,0),col=\"skyblue2\")\n",
    "\n",
    "#adding an arrow describing the probability\n",
    "arrows(47,0.06,49,0.01,length=.15)\n",
    "text(47,0.07,prob_b)\n",
    "\n",
    "#adding a red line and an arrow for the mean\n",
    "abline(v = u_p1_x, col = \"Red\")\n",
    "arrows(55,0.15,53,0.10,length=.15)\n",
    "text(55,0.16,u_p1_x)"
   ]
  },
  {
   "cell_type": "markdown",
   "metadata": {},
   "source": [
    "The red line represents the sample mean"
   ]
  },
  {
   "cell_type": "markdown",
   "metadata": {},
   "source": [
    "## Problem 2\n",
    "A medical journal finds that total mean cholesterol of men aged 45-55 is 210.8 with standard deviation 41.9 (https://www.researchgate.net/figure/The-mean-and-standard-deviation-of-plasma-total-cholesterol-levels-based-on-some-related_tbl2_257250896).\n",
    "\n",
    "a.) What percentage of the population has a cholesterol level within one standard deviation of the mean?\n",
    "\n",
    "b.) What percentage of the population has a cholesterol level within two standard deviations of the mean?\n",
    "\n",
    "c.) What percentage of the population has high cholesterol?\n",
    "\n",
    "d.) Plot a distribution of the mean cholesterol level for mean aged 45-55 shading values within one standard deviation of the mean in a color of your choosing."
   ]
  },
  {
   "cell_type": "markdown",
   "metadata": {},
   "source": [
    "We are given that the mean and standard deviation of the sample of men in the experiment, aged 45-55, is 210.8 (u_p2_x = 210.8 and sd_p2_x = 41.9) respectively.  Since parts a through b are referring to percentages for the population, we need to determine the mean and standard deviation of the population. Assuming that the population we are referring to is the entire population of men in the experiment, we can reference the article and see that the mean cholesterol for the population of men 997 in the experiment is 196.7 and the standard deviation is 39.5.  "
   ]
  },
  {
   "cell_type": "markdown",
   "metadata": {},
   "source": [
    "a.) What percentage of the population has a cholesterol level within one standard deviation of the mean?"
   ]
  },
  {
   "cell_type": "markdown",
   "metadata": {},
   "source": [
    "As per the normal distribution and how numbers are spread out under the bell curve, we can exepct that the probability of the population being within one standard deviation of the mean will be 68%"
   ]
  },
  {
   "cell_type": "code",
   "execution_count": 6,
   "metadata": {},
   "outputs": [
    {
     "data": {
      "text/html": [
       "0.6827"
      ],
      "text/latex": [
       "0.6827"
      ],
      "text/markdown": [
       "0.6827"
      ],
      "text/plain": [
       "[1] 0.6827"
      ]
     },
     "metadata": {},
     "output_type": "display_data"
    }
   ],
   "source": [
    "u_p2_x <- 210.8\n",
    "sd_p2_x <- 41.9\n",
    "\n",
    "u_p2 <- 196.7\n",
    "sd_p2 <- 39.5\n",
    "\n",
    "#function for calculating range of x standard deviations within the mean\n",
    "sdWithinMean = function(mu,sd,x){\n",
    "    mu+sd*x\n",
    "}\n",
    "\n",
    "#calculating min and max of the range within which we have to calculate the probabiliy\n",
    "one_sd_min <- sdWithinMean(u_p2,sd_p2,-1)\n",
    "one_sd_max <- sdWithinMean(u_p2,sd_p2,1)\n",
    "\n",
    "#calculating probability\n",
    "round(pnorm(one_sd_max, mean = u_p2, sd = sd_p2, lower.tail=TRUE) - \n",
    "    pnorm(one_sd_min, mean = u_p2, sd = sd_p2, lower.tail=TRUE),4)"
   ]
  },
  {
   "cell_type": "markdown",
   "metadata": {},
   "source": [
    "We can also calculate the standard error and establish a confidence interval, to determine how confident or certain we are that the true population mean falls within a given range.  As stated earlier, the population in question is the population of all the men in the experiment. Based on the article, the population men is 997.  The sample size of men between the ages of 44-55 would be 488 men. We know the sd of this sample: 41.9.  The sample mean would remain at 210.8.  Using this information we can construct the 68% confidence interval."
   ]
  },
  {
   "cell_type": "code",
   "execution_count": 11,
   "metadata": {},
   "outputs": [
    {
     "name": "stdout",
     "output_type": "stream",
     "text": [
      "We are 68% confident that the true population mean of cholesterol is 210.8 ± (1.0) x (SE),\n",
      "or between 208.9 and 212.7 mg/dl."
     ]
    }
   ],
   "source": [
    "#sample sd\n",
    "sample_n <- 488\n",
    "sample_sd <- 41.9\n",
    "\n",
    "#calculating population variance\n",
    "pop_variance <- (sample_n/(sample_n-1))*sample_sd^2\n",
    "\n",
    "#calculating standard error\n",
    "SE <- sqrt(pop_variance/sample_n)\n",
    "#SE\n",
    "\n",
    "#68% confidence interval range: (210.8 - 1.0*SE, 210.8+1.0*SE)\n",
    "interval_min <- round(u_p2_x - 1.0*SE,2)\n",
    "#interval_min\n",
    "interval_max <- round(u_p2_x + 1.0*SE,2)\n",
    "#interval_max\n",
    "\n",
    "cat(\"We are 68% confident that the true population mean of cholesterol is 210.8 ± (1.0) x (SE),\n",
    "or between\", interval_min, \"and\", interval_max,\"mg/dl.\")"
   ]
  },
  {
   "cell_type": "markdown",
   "metadata": {},
   "source": [
    "b.) What percentage of the population has a cholesterol level within two standard deviations of the mean?"
   ]
  },
  {
   "cell_type": "markdown",
   "metadata": {},
   "source": [
    "As per the normal distribution and how numbers are spread out under the bell curve, we can exepct that the probability of the population being within one standard deviation of the mean will be 95%"
   ]
  },
  {
   "cell_type": "code",
   "execution_count": 12,
   "metadata": {},
   "outputs": [
    {
     "data": {
      "text/html": [
       "0.9545"
      ],
      "text/latex": [
       "0.9545"
      ],
      "text/markdown": [
       "0.9545"
      ],
      "text/plain": [
       "[1] 0.9545"
      ]
     },
     "metadata": {},
     "output_type": "display_data"
    }
   ],
   "source": [
    "#calculating range for two standard deviations within the mean\n",
    "two_sd_min <- sdWithinMean(u_p2,sd_p2,-2)\n",
    "two_sd_max <- sdWithinMean(u_p2,sd_p2,2)\n",
    "\n",
    "#calculating probability\n",
    "prob2_b <- round(pnorm(two_sd_max, mean = u_p2, sd = sd_p2, lower.tail=TRUE) - \n",
    "    pnorm(two_sd_min, mean = u_p2, sd = sd_p2, lower.tail=TRUE),4)\n",
    "prob2_b"
   ]
  },
  {
   "cell_type": "markdown",
   "metadata": {},
   "source": [
    "As in part a, we can also construct a confidence interval.  For part b we can construct a 95% confidence interval."
   ]
  },
  {
   "cell_type": "code",
   "execution_count": 13,
   "metadata": {},
   "outputs": [
    {
     "name": "stdout",
     "output_type": "stream",
     "text": [
      "We are 95% confident that the true population mean of cholesterol is 210.8 ± (1.96) x (SE),\n",
      "or between 207.0786 and 214.5214 mg/dl."
     ]
    }
   ],
   "source": [
    "interval_min2 <- u_p2_x - 1.96*SE\n",
    "interval_max2 <- u_p2_x + 1.96*SE\n",
    "\n",
    "cat(\"We are 95% confident that the true population mean of cholesterol is 210.8 ± (1.96) x (SE),\n",
    "or between\", interval_min2, \"and\", interval_max2,\"mg/dl.\")"
   ]
  },
  {
   "cell_type": "markdown",
   "metadata": {},
   "source": [
    "c.) What percentage of the population has high cholesterol?"
   ]
  },
  {
   "cell_type": "code",
   "execution_count": 14,
   "metadata": {},
   "outputs": [
    {
     "data": {
      "text/html": [
       "0.13649508"
      ],
      "text/latex": [
       "0.13649508"
      ],
      "text/markdown": [
       "0.13649508"
      ],
      "text/plain": [
       "[1] 0.1364951"
      ]
     },
     "metadata": {},
     "output_type": "display_data"
    }
   ],
   "source": [
    "#as per PDF provided with homework questions, High Cholesterol = greater than 240\n",
    "\n",
    "#calculating probability P(X>240), if X = cholesterol level for Male population in experiment\n",
    "round(pnorm(240, mean = u_p2, sd = sd_p2, lower.tail=FALSE),8)"
   ]
  },
  {
   "cell_type": "markdown",
   "metadata": {},
   "source": [
    "If we wanted to know the percentage of the sample that has high cholesterol we would do the following:"
   ]
  },
  {
   "cell_type": "code",
   "execution_count": 15,
   "metadata": {},
   "outputs": [
    {
     "data": {
      "text/html": [
       "0.24293351"
      ],
      "text/latex": [
       "0.24293351"
      ],
      "text/markdown": [
       "0.24293351"
      ],
      "text/plain": [
       "[1] 0.2429335"
      ]
     },
     "metadata": {},
     "output_type": "display_data"
    }
   ],
   "source": [
    "round(pnorm(240, mean = u_p2_x, sd = sd_p2_x, lower.tail=FALSE),8)"
   ]
  },
  {
   "cell_type": "markdown",
   "metadata": {},
   "source": [
    "d.) Plot a distribution of the men cholesterol level for mean aged 45-55 shading values within one standard deviation of the mean in a color of your choosing."
   ]
  },
  {
   "cell_type": "code",
   "execution_count": 16,
   "metadata": {},
   "outputs": [
    {
     "data": {
      "image/png": "[encoded data removed]",
      "text/plain": [
       "Plot with title \"Distribution of Sample Mean\""
      ]
     },
     "metadata": {},
     "output_type": "display_data"
    }
   ],
   "source": [
    "#setting up the bell curve\n",
    "x=seq(round(u_p2_x-4*sd_p2_x,0),round(u_p2_x+4*sd_p2_x,0),length=200)\n",
    "y=dnorm(x,mean=u_p2_x,sd=sd_p2_x)\n",
    "plot(x,y,type=\"l\", main=\"Distribution of Sample Mean\", xlab=\"Cholesterol\", ylab=\"Probability Density\") \n",
    "x=seq(round(u_p2_x-1*sd_p2_x,0),round(u_p2_x+1*sd_p2_x,0),length=100)\n",
    "y=dnorm(x,mean=u_p2_x,sd=sd_p2_x)\n",
    "polygon(c(round(u_p2_x-1*sd_p2_x,0),x,round(u_p2_x+1*sd_p2_x,0)),c(0,y,0),col=\"skyblue2\")\n",
    "\n",
    "#arrows describing the probability of the shaded area under the bell curve\n",
    "arrows(150,0.006,185,0.004,length=.15)\n",
    "text(150,0.0065,prob2_b)\n",
    "\n",
    "#adding a red line and an arrow for the mean\n",
    "abline(v = u_p2_x, col = \"Red\")\n",
    "arrows(u_p2_x,0.009,250,0.009,length=.15)\n",
    "text(270,0.009,u_p2_x)"
   ]
  },
  {
   "cell_type": "markdown",
   "metadata": {},
   "source": [
    "## References\n",
    "\n"
   ]
  },
  {
   "cell_type": "markdown",
   "metadata": {},
   "source": [
    "http://rstudio-pubs-static.s3.amazonaws.com/78857_86c2403ca9c146ba8fcdcda79c3f4738.html\n",
    "\n",
    "https://academic.csuohio.edu/kneuendorf/c53102/hand12.pdf\n",
    "\n",
    "https://courses.lumenlearning.com/introstats1/chapter/a-population-proportion/\n"
   ]
  }
 ],
 "metadata": {
  "kernelspec": {
   "display_name": "R",
   "language": "R",
   "name": "ir"
  },
  "language_info": {
   "codemirror_mode": "r",
   "file_extension": ".r",
   "mimetype": "text/x-r-source",
   "name": "R",
   "pygments_lexer": "r",
   "version": "3.6.1"
  }
 },
 "nbformat": 4,
 "nbformat_minor": 4
}
