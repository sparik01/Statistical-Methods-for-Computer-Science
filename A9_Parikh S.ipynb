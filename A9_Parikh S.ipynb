{
 "cells": [
  {
   "cell_type": "markdown",
   "metadata": {},
   "source": [
    "# R Coding Assignment \\#9: Markov Chain"
   ]
  },
  {
   "cell_type": "markdown",
   "metadata": {},
   "source": [
    "### Sheetal Parikh\n",
    "EN.605.631.81<br>\n",
    "November 1, 2020\n",
    "***\n",
    "***"
   ]
  },
  {
   "cell_type": "markdown",
   "metadata": {},
   "source": [
    "Suppose the attached voting results called, \"Voting Precinct.txt\", of the outcome of the congressional election in a certain precinct in the US is collected every two years where the outcome of one election depends only on the results of the preceding election. For example:\n",
    "<br>\n",
    "<br>\n",
    "Year &nbsp;\tDEM\t&nbsp; REP &nbsp; LIB<br>\n",
    "1885 &nbsp;&nbsp;&nbsp; D &nbsp;&nbsp;&nbsp;&nbsp;&nbsp; R &nbsp;&nbsp;&nbsp;&nbsp;&nbsp;&nbsp; L<br>\n",
    "1887 &nbsp;&nbsp;&nbsp; D &nbsp;&nbsp;&nbsp;&nbsp;&nbsp; R &nbsp;&nbsp;&nbsp;&nbsp;&nbsp;&nbsp; D<br>\n",
    "1889 &nbsp;&nbsp;&nbsp;\tR &nbsp;&nbsp;&nbsp;&nbsp;&nbsp; R &nbsp;&nbsp;&nbsp;&nbsp;&nbsp;&nbsp;\tR<br>\n",
    "1891 &nbsp;&nbsp;&nbsp; R &nbsp;&nbsp;&nbsp;&nbsp;&nbsp; L &nbsp;&nbsp;&nbsp;&nbsp;&nbsp;&nbsp; R<br>\n",
    "1893 &nbsp;&nbsp;&nbsp; D &nbsp;&nbsp;&nbsp;&nbsp;&nbsp; R &nbsp;&nbsp;&nbsp;&nbsp;&nbsp;&nbsp;\tD<br>\n",
    "1895 &nbsp;&nbsp;&nbsp; L &nbsp;&nbsp;&nbsp;&nbsp;&nbsp; R &nbsp;&nbsp;&nbsp;&nbsp;&nbsp;&nbsp;\tR<br>\n",
    "1897 &nbsp;&nbsp;&nbsp; L &nbsp;&nbsp;&nbsp;&nbsp;&nbsp; D &nbsp;&nbsp;&nbsp;&nbsp;&nbsp;&nbsp;\tR<br>\n",
    "<br>\n",
    "In the above table, the first column represents Democrats. From 1885 to 1897 they voted Democrat three times, Republican twice, and Libertarian twice. Similarly, for those who voted Republican, voted Republican five times, and Democratic once and Libertarian once. \n",
    "<br>\n",
    "The sequence that describe the votes every two years may be regarded as a Markov Chain."
   ]
  },
  {
   "cell_type": "markdown",
   "metadata": {},
   "source": [
    "## Problem 1\n",
    " Determine the transition matrix from the data given in the attached voting precinct file. Your matrix should be square reflecting Democrat, Republicans, and Libertarians. The rows (or columns depending how you setup your problem) should sum to one. The entries in the first row (or column) describe what a person voting Democrat in one election will do in the next election. A similar interpretation holds for the other rows (columns)."
   ]
  },
  {
   "cell_type": "markdown",
   "metadata": {},
   "source": [
    "In order to determine the transition matrix from the voting precinct file, we need to first calculate the probabilities of moving from one state to the next meaning the probabilities of voting Democrat, Republic, or Libertarian given the voter is registered as a Democrat, Republican or Libertarian.  Below we can see that over 80 years, Democrats voted Democrat 56 times, voted Libertarian 16 times, and voted Republican 8 times.  Republicans voted Democrat 8 times, voted Libertarian 8 times, and voted Republican 64 times.  Lastly Libertarians voted Democrat 24 times, voted Libertarian 32 times, and voted Republican 24 times."
   ]
  },
  {
   "cell_type": "code",
   "execution_count": 15,
   "metadata": {},
   "outputs": [],
   "source": [
    "#setting working directory to correct folder to pull in Voting Precinct txt file\n",
    "setwd(\"C:/Users/Sheetal/Documents/Sheetal/Stat Methods/Class Code\")\n",
    "\n",
    "#reading in txt file and saving it as a data frame\n",
    "data <- read.table(\"Voting Precinct.txt\", header = TRUE, sep=\"\")"
   ]
  },
  {
   "cell_type": "code",
   "execution_count": 16,
   "metadata": {},
   "outputs": [
    {
     "name": "stdout",
     "output_type": "stream",
     "text": [
      "The voting precinct data comprises a total of  80  years."
     ]
    },
    {
     "data": {
      "text/html": [
       "<table>\n",
       "<thead><tr><th scope=col>D</th><th scope=col>freq</th></tr></thead>\n",
       "<tbody>\n",
       "\t<tr><td>D </td><td>56</td></tr>\n",
       "\t<tr><td>L </td><td>16</td></tr>\n",
       "\t<tr><td>R </td><td> 8</td></tr>\n",
       "</tbody>\n",
       "</table>\n"
      ],
      "text/latex": [
       "\\begin{tabular}{r|ll}\n",
       " D & freq\\\\\n",
       "\\hline\n",
       "\t D  & 56\\\\\n",
       "\t L  & 16\\\\\n",
       "\t R  &  8\\\\\n",
       "\\end{tabular}\n"
      ],
      "text/markdown": [
       "\n",
       "| D | freq |\n",
       "|---|---|\n",
       "| D  | 56 |\n",
       "| L  | 16 |\n",
       "| R  |  8 |\n",
       "\n"
      ],
      "text/plain": [
       "  D freq\n",
       "1 D 56  \n",
       "2 L 16  \n",
       "3 R  8  "
      ]
     },
     "metadata": {},
     "output_type": "display_data"
    },
    {
     "data": {
      "text/html": [
       "<table>\n",
       "<thead><tr><th scope=col>R</th><th scope=col>freq</th></tr></thead>\n",
       "<tbody>\n",
       "\t<tr><td>D </td><td> 8</td></tr>\n",
       "\t<tr><td>L </td><td> 8</td></tr>\n",
       "\t<tr><td>R </td><td>64</td></tr>\n",
       "</tbody>\n",
       "</table>\n"
      ],
      "text/latex": [
       "\\begin{tabular}{r|ll}\n",
       " R & freq\\\\\n",
       "\\hline\n",
       "\t D  &  8\\\\\n",
       "\t L  &  8\\\\\n",
       "\t R  & 64\\\\\n",
       "\\end{tabular}\n"
      ],
      "text/markdown": [
       "\n",
       "| R | freq |\n",
       "|---|---|\n",
       "| D  |  8 |\n",
       "| L  |  8 |\n",
       "| R  | 64 |\n",
       "\n"
      ],
      "text/plain": [
       "  R freq\n",
       "1 D  8  \n",
       "2 L  8  \n",
       "3 R 64  "
      ]
     },
     "metadata": {},
     "output_type": "display_data"
    },
    {
     "data": {
      "text/html": [
       "<table>\n",
       "<thead><tr><th scope=col>L</th><th scope=col>freq</th></tr></thead>\n",
       "<tbody>\n",
       "\t<tr><td>D </td><td>24</td></tr>\n",
       "\t<tr><td>L </td><td>32</td></tr>\n",
       "\t<tr><td>R </td><td>24</td></tr>\n",
       "</tbody>\n",
       "</table>\n"
      ],
      "text/latex": [
       "\\begin{tabular}{r|ll}\n",
       " L & freq\\\\\n",
       "\\hline\n",
       "\t D  & 24\\\\\n",
       "\t L  & 32\\\\\n",
       "\t R  & 24\\\\\n",
       "\\end{tabular}\n"
      ],
      "text/markdown": [
       "\n",
       "| L | freq |\n",
       "|---|---|\n",
       "| D  | 24 |\n",
       "| L  | 32 |\n",
       "| R  | 24 |\n",
       "\n"
      ],
      "text/plain": [
       "  L freq\n",
       "1 D 24  \n",
       "2 L 32  \n",
       "3 R 24  "
      ]
     },
     "metadata": {},
     "output_type": "display_data"
    }
   ],
   "source": [
    "library(plyr)\n",
    "\n",
    "#determining the number of years included in the table\n",
    "years <- nrow(data)\n",
    "cat(\"The voting precinct data comprises a total of \", years, \" years.\")\n",
    "\n",
    "#determining the number of times Democrats voted Democrat, Republic, and Liberatarian\n",
    "D_freq <- count(data,\"D\")\n",
    "D_freq\n",
    "\n",
    "#determining the number of times Republicans voted Democrat, Republic, and Liberatarian\n",
    "R_freq <- count(data,\"R\")\n",
    "R_freq\n",
    "\n",
    "#determining the number of times Libertarians voted Democrat, Republic, and Libertarian\n",
    "L_freq <- count(data,\"L\")\n",
    "L_freq"
   ]
  },
  {
   "cell_type": "markdown",
   "metadata": {},
   "source": [
    "After determining the frequencies of a Democrat, Republican, or Libertarian voting a certain way, we can use the frequencies to calcualte the probabilities of each way of voting and put together the transition matrix.  The transition matrix below goes from left to right.  The first row represents the probabilities of a Democrat voting Democrat, Libertarian, and Republican(in that order).  The second row represents the probabilities of a Republican voting in the same order and the third row represents the probabilities of a Libertarian voting in the same order."
   ]
  },
  {
   "cell_type": "code",
   "execution_count": 24,
   "metadata": {},
   "outputs": [],
   "source": [
    "#function for calculating transition probabilities\n",
    "calcprob <- function(x){\n",
    "    round(x / years,2)\n",
    "}"
   ]
  },
  {
   "cell_type": "code",
   "execution_count": 25,
   "metadata": {},
   "outputs": [
    {
     "name": "stdout",
     "output_type": "stream",
     "text": [
      "3 Dimensional Discrete Markov Chain defined by three states:\n",
      "    Democrat(D), Republican(R) and Libertarian(L)\n",
      "\n",
      "The transition matrix (by rows) is defined as follows:\n"
     ]
    },
    {
     "data": {
      "text/html": [
       "<table>\n",
       "<tbody>\n",
       "\t<tr><td>   </td><td>D  </td><td>R  </td><td>L  </td></tr>\n",
       "\t<tr><td>D  </td><td>0.7</td><td>0.1</td><td>0.2</td></tr>\n",
       "\t<tr><td>R  </td><td>0.1</td><td>0.8</td><td>0.1</td></tr>\n",
       "\t<tr><td>L  </td><td>0.3</td><td>0.3</td><td>0.4</td></tr>\n",
       "</tbody>\n",
       "</table>\n"
      ],
      "text/latex": [
       "\\begin{tabular}{llll}\n",
       "\t     & D   & R   & L  \\\\\n",
       "\t D   & 0.7 & 0.1 & 0.2\\\\\n",
       "\t R   & 0.1 & 0.8 & 0.1\\\\\n",
       "\t L   & 0.3 & 0.3 & 0.4\\\\\n",
       "\\end{tabular}\n"
      ],
      "text/markdown": [
       "\n",
       "|     | D   | R   | L   |\n",
       "| D   | 0.7 | 0.1 | 0.2 |\n",
       "| R   | 0.1 | 0.8 | 0.1 |\n",
       "| L   | 0.3 | 0.3 | 0.4 |\n",
       "\n"
      ],
      "text/plain": [
       "     [,1] [,2] [,3] [,4]\n",
       "[1,]      D    R    L   \n",
       "[2,] D    0.7  0.1  0.2 \n",
       "[3,] R    0.1  0.8  0.1 \n",
       "[4,] L    0.3  0.3  0.4 "
      ]
     },
     "metadata": {},
     "output_type": "display_data"
    },
    {
     "name": "stdout",
     "output_type": "stream",
     "text": [
      "Matrix that will be used for calculations:\n"
     ]
    },
    {
     "data": {
      "text/html": [
       "<table>\n",
       "<tbody>\n",
       "\t<tr><td>0.7</td><td>0.1</td><td>0.2</td></tr>\n",
       "\t<tr><td>0.1</td><td>0.8</td><td>0.1</td></tr>\n",
       "\t<tr><td>0.3</td><td>0.3</td><td>0.4</td></tr>\n",
       "</tbody>\n",
       "</table>\n"
      ],
      "text/latex": [
       "\\begin{tabular}{lll}\n",
       "\t 0.7 & 0.1 & 0.2\\\\\n",
       "\t 0.1 & 0.8 & 0.1\\\\\n",
       "\t 0.3 & 0.3 & 0.4\\\\\n",
       "\\end{tabular}\n"
      ],
      "text/markdown": [
       "\n",
       "| 0.7 | 0.1 | 0.2 |\n",
       "| 0.1 | 0.8 | 0.1 |\n",
       "| 0.3 | 0.3 | 0.4 |\n",
       "\n"
      ],
      "text/plain": [
       "     [,1] [,2] [,3]\n",
       "[1,] 0.7  0.1  0.2 \n",
       "[2,] 0.1  0.8  0.1 \n",
       "[3,] 0.3  0.3  0.4 "
      ]
     },
     "metadata": {},
     "output_type": "display_data"
    }
   ],
   "source": [
    "####Determining probabilities of moving from Democrat to another state####\n",
    "#install.packages('diagram')\n",
    "#library(diagram)\n",
    "\n",
    "##Democrat to Democrat\n",
    "#D_D <- round(D_freq[1,2] / years, digits = 3)\n",
    "D_D <- calcprob(D_freq[1,2])\n",
    "\n",
    "##Democrat to Republican\n",
    "#D_R <- round(D_freq[3,2] / years, digits = 3)\n",
    "D_R <- calcprob(D_freq[3,2])\n",
    "\n",
    "##Democrat to Libertarian\n",
    "#D_L <- round(D_freq[2,2] / years, digits = 3)\n",
    "D_L <- calcprob(D_freq[2,2])\n",
    "\n",
    "###determining probabilities of moving from Republican to another state###\n",
    "\n",
    "##Republican to Democrat\n",
    "#R_D <- round(R_freq[1,2] / years, digits = 3)\n",
    "R_D <- calcprob(R_freq[1,2])\n",
    "\n",
    "##Republican to Republican\n",
    "#R_R <- round(R_freq[3,2] / years, digits = 3)\n",
    "R_R <- calcprob(R_freq[3,2])\n",
    "\n",
    "##Republican to Libertarian\n",
    "#R_L <- round(R_freq[2,2] / years, digits = 3)\n",
    "R_L <- calcprob(R_freq[2,2])\n",
    "\n",
    "###determining probabilities of moving from Libertarian to another state###\n",
    "\n",
    "##Libertarian to Democrat\n",
    "#L_D <- round(L_freq[1,2] / years, digits = 3)\n",
    "L_D <- calcprob(L_freq[1,2])\n",
    "\n",
    "#Libertarian to Republican\n",
    "#L_R <- round(L_freq[3,2] / years, digits = 3)\n",
    "L_R <- calcprob(L_freq[3,2])\n",
    "\n",
    "#Libertarian to Libertarian\n",
    "#L_L <- round(L_freq[2,2] / years, digits = 3)\n",
    "L_L <- calcprob(L_freq[2,2])\n",
    "\n",
    "#####Putting together the Transition Matrix#####\n",
    "\n",
    "#printing matrix to view the probability of each state and the probability to transition to a different state\n",
    "t_Mat_visual <- matrix(c(\"\", \"D\", \"R\", \"L\", \"D\", D_D, D_R, D_L, \"R\", R_D, R_R, R_L, \"L\", L_D, L_R, L_L), nrow = 4, byrow = TRUE)\n",
    "cat(\"3 Dimensional Discrete Markov Chain defined by three states:\\n\")\n",
    "cat(\"    Democrat(D), Republican(R) and Libertarian(L)\\n\")\n",
    "cat(\"\\nThe transition matrix (by rows) is defined as follows:\\n\")\n",
    "##  A  3 - dimensional discrete Markov Chain defined by the following states: \n",
    "##  No Rain, Light Rain, Heavy Rain \n",
    "##  The transition matrix  (by rows)  is defined as follows: \n",
    "t_Mat_visual\n",
    "\n",
    "#printing matrix that will be used to for calculations going forward\n",
    "t_mat <- matrix(c(D_D, D_R, D_L, R_D, R_R, R_L, L_D, L_R, L_L), nrow = 3, byrow = TRUE)\n",
    "cat(\"Matrix that will be used for calculations:\\n\")\n",
    "t_mat\n"
   ]
  },
  {
   "cell_type": "markdown",
   "metadata": {},
   "source": [
    "## Problem 2\n",
    "Produce a diagram for the transition matrix derived in problem 1."
   ]
  },
  {
   "cell_type": "markdown",
   "metadata": {},
   "source": [
    "The diagram below shows the flow of moving from one state to another.  For example, if a voter is at the Democrat state (meaning that he or she is democrat), there is a 70% probability that he or she will vote Democrat, or stay in the Democrat state. There also is a 10% probability of that voter voting Republican, or moving to the Republican state, and a 20% probability of that voter voting Libertarian or moving to the Libertarian state."
   ]
  },
  {
   "cell_type": "code",
   "execution_count": 30,
   "metadata": {},
   "outputs": [
    {
     "data": {
      "image/png": "[encoded data removed]",
      "text/plain": [
       "Plot with title \"Markov Chain: Voting Precinct\""
      ]
     },
     "metadata": {},
     "output_type": "display_data"
    }
   ],
   "source": [
    "library(diagram)\n",
    "\n",
    "#transpose matrix\n",
    "t_mat_2 <- t(t_mat)\n",
    "\n",
    "stateNames <- c(\"Democrat\",\"Republican\",\"Libertarian\")\n",
    "row.names(t_mat_2) <- stateNames; colnames(t_mat_2) <- stateNames\n",
    "plotmat(t_mat_2,pos = c(1,2), \n",
    "        lwd = 1, box.lwd = 2, \n",
    "        cex.txt = 0.8, \n",
    "        box.size = 0.1, \n",
    "        box.type = \"circle\", \n",
    "        box.prop = 0.5,\n",
    "        box.col = \"cornflowerblue\",\n",
    "        arr.length=.1,\n",
    "        arr.width=.1,\n",
    "        self.cex = .6,\n",
    "        self.shifty = -.01,\n",
    "        self.shiftx = .14,\n",
    "        main = \"Markov Chain: Voting Precinct\")"
   ]
  },
  {
   "cell_type": "markdown",
   "metadata": {},
   "source": [
    "We can also simulate multiple chains of over multiple iterations to get a sense of how the markov chain would flow using the transition matrix we determined above.  The graph below demonstrates 100 iterations of 5 chains of the transition matrix we determined. "
   ]
  },
  {
   "cell_type": "code",
   "execution_count": 31,
   "metadata": {},
   "outputs": [
    {
     "data": {
      "image/png": "[encoded data removed]",
      "text/plain": [
       "plot without title"
      ]
     },
     "metadata": {},
     "output_type": "display_data"
    }
   ],
   "source": [
    "#https://stephens999.github.io/fiveMinuteStats/simulating_discrete_chains_1.html\n",
    "\n",
    "# simulate discrete Markov chains according to transition matrix \n",
    "markovsimulation <- function( m, iterations = 100 ) {\n",
    "  \n",
    "  # number states\n",
    "  num_states <- nrow(m)\n",
    "  \n",
    "  # stores the states X_t through time\n",
    "  states     <- numeric(iterations)\n",
    "\n",
    "  # initialize variable for first state \n",
    "  states[1]    <- 1\n",
    "\n",
    "  for(t in 2:iterations) {\n",
    "    \n",
    "    # probability vector to simulate next state X_{t+1}\n",
    "    prob_vec  <- m[states[t-1], ]\n",
    "    \n",
    "    ## draw from multinomial and determine state\n",
    "    states[t] <-  which(rmultinom(1, 1, prob_vec) == 1)\n",
    "  }\n",
    "  return(states)\n",
    "}\n",
    "\n",
    "num_chains     <- 5\n",
    "num_iterations <- 100\n",
    "\n",
    "# each column stores the sequence of states for a single chain\n",
    "chain_states  <- matrix(NA, ncol=num_chains, nrow=num_iterations)\n",
    "\n",
    "# simulate chains\n",
    "for(c in seq_len(num_chains)){\n",
    "  chain_states[,c] <- markovsimulation(t_mat)\n",
    "}\n",
    "\n",
    "# plotting graph\n",
    "matplot(chain_states, type='l', lty=1, col=1:5, ylim=c(0,4), ylab='State: Parties D, R, and L', xlab='Time')\n",
    "abline(h=1, lty=3)\n",
    "abline(h=3, lty=3)"
   ]
  },
  {
   "cell_type": "markdown",
   "metadata": {},
   "source": [
    "## Problem 3\n",
    "Suppose out of 1000 voters the outcome of one election is given by 55% Democrat, 40% Republican, and 5% Libertarian. Determine how many voters will cast by party the next election, then determine the election by party after that"
   ]
  },
  {
   "cell_type": "markdown",
   "metadata": {},
   "source": [
    "We are given an intitial state vector from the current election (at t = 1).  In order to determine how many voters will vote Democrat, Republican or Libertarian the next election, we would muliply the initial state vector with the voter transition matrix we determined in problem 1 taken to the second power (t = 2). This would give us the probabilities which we can then use to determine the numbers of Democrat voters(approximately 398 voters), the Number of Republicans voters(Approximately 407 voters) and the number of Libertarian voters(approximately 195 voters).  Similarly, in order to determine how many voters will vote Democrat, Republican or Libertarian the election after next, we would muliply the initial state vector with the voter transition matrix we determined in problem 1 taken to the third power (t = 3). This would give us the probabilities which we can then use to determine the numbers of Democrat voters(approximately 378 voters), the Number of Republicans voters(Approximately 424 voters) and the number of Libertarian voters(approximately 198 voters)."
   ]
  },
  {
   "cell_type": "code",
   "execution_count": 33,
   "metadata": {},
   "outputs": [
    {
     "name": "stdout",
     "output_type": "stream",
     "text": [
      "Probabilities by party for next election in order of D,R, and L: \n"
     ]
    },
    {
     "data": {
      "text/html": [
       "<table>\n",
       "<tbody>\n",
       "\t<tr><td>0.398</td><td>0.407</td><td>0.195</td></tr>\n",
       "</tbody>\n",
       "</table>\n"
      ],
      "text/latex": [
       "\\begin{tabular}{lll}\n",
       "\t 0.398 & 0.407 & 0.195\\\\\n",
       "\\end{tabular}\n"
      ],
      "text/markdown": [
       "\n",
       "| 0.398 | 0.407 | 0.195 |\n",
       "\n"
      ],
      "text/plain": [
       "     [,1]  [,2]  [,3] \n",
       "[1,] 0.398 0.407 0.195"
      ]
     },
     "metadata": {},
     "output_type": "display_data"
    },
    {
     "name": "stdout",
     "output_type": "stream",
     "text": [
      "Approximate Number of Voters Cast By Party for next election(t=2):\n",
      "Democrats: 398 \n",
      "Republicans: 407 \n",
      "Libertarian: 195\n",
      "\n",
      "Probabilities by party for election after next in order of D, R, and L: \n"
     ]
    },
    {
     "data": {
      "text/html": [
       "<table>\n",
       "<tbody>\n",
       "\t<tr><td>0.3778</td><td>0.4239</td><td>0.1983</td></tr>\n",
       "</tbody>\n",
       "</table>\n"
      ],
      "text/latex": [
       "\\begin{tabular}{lll}\n",
       "\t 0.3778 & 0.4239 & 0.1983\\\\\n",
       "\\end{tabular}\n"
      ],
      "text/markdown": [
       "\n",
       "| 0.3778 | 0.4239 | 0.1983 |\n",
       "\n"
      ],
      "text/plain": [
       "     [,1]   [,2]   [,3]  \n",
       "[1,] 0.3778 0.4239 0.1983"
      ]
     },
     "metadata": {},
     "output_type": "display_data"
    },
    {
     "name": "stdout",
     "output_type": "stream",
     "text": [
      "Approximate Number of Voters Cast By Party for election after next(t=3):\n",
      "Democrats: 378 \n",
      "Republicans: 424 \n",
      "Libertarian: 198"
     ]
    }
   ],
   "source": [
    "#install.packages(\"matrixcalc\")\n",
    "library(matrixcalc)\n",
    "library(expm)\n",
    "\n",
    "#1000 voters\n",
    "num_voters <- 1000\n",
    "\n",
    "#percentages of voters by party of current election at t = 1\n",
    "Dem <- 0.55\n",
    "Rep <- 0.40\n",
    "Lib <- 0.05\n",
    "\n",
    "initialstate <- c(Dem, Rep, Lib)\n",
    "#initialstate\n",
    "                 \n",
    "#next election: t = 2\n",
    "election2 <- initialstate %*% (t_mat %^% 2)\n",
    "cat(\"Probabilities by party for next election in order of D,R, and L: \\n\")\n",
    "election2\n",
    "cat(\"Approximate Number of Voters Cast By Party for next election(t=2):\\n\")\n",
    "cat(\"Democrats:\", election2[1,1]*num_voters, \"\\nRepublicans:\", election2[1,2]*num_voters, \n",
    "    \"\\nLibertarian:\",election2[1,3]*num_voters)\n",
    "\n",
    "#election after next: t = 3\n",
    "election3 <- initialstate %*% (t_mat %^% 3)\n",
    "cat(\"\\n\\nProbabilities by party for election after next in order of D, R, and L: \\n\")\n",
    "election3\n",
    "cat(\"Approximate Number of Voters Cast By Party for election after next(t=3):\\n\")\n",
    "cat(\"Democrats:\", round(election3[1,1]*num_voters,0), \"\\nRepublicans:\", round(election3[1,2]*num_voters,0), \n",
    "    \"\\nLibertarian:\", round(election3[1,3]*num_voters,0))\n"
   ]
  },
  {
   "cell_type": "markdown",
   "metadata": {},
   "source": [
    "## Problem 4\n",
    "Determine the steady state of the transition matrix."
   ]
  },
  {
   "cell_type": "markdown",
   "metadata": {},
   "source": [
    "After so many steps into the future (after taking the n power of a transition matrix, as n approaches a greater and greater value) we will see that the resulting probabilities will stop changing(no matter how many steps into the future).  This steady resulting  matrix will be the steady state of the transition matrix.  As seen below, the resulting steady state is [0.3462, 0.4615, 0.1923], meaning after so many elections we would have the outcome of a election be steady at 35% Democrat, 46% Republican, and 19% Libertarian (using the transition matrix determined in problem 1)."
   ]
  },
  {
   "cell_type": "code",
   "execution_count": 29,
   "metadata": {},
   "outputs": [
    {
     "name": "stdout",
     "output_type": "stream",
     "text": [
      "10 Elections in the future: \n"
     ]
    },
    {
     "data": {
      "text/html": [
       "<table>\n",
       "<tbody>\n",
       "\t<tr><td>0.3531292</td><td>0.4526049</td><td>0.1942659</td></tr>\n",
       "\t<tr><td>0.3403506</td><td>0.4689712</td><td>0.1906782</td></tr>\n",
       "\t<tr><td>0.3475260</td><td>0.4597803</td><td>0.1926936</td></tr>\n",
       "</tbody>\n",
       "</table>\n"
      ],
      "text/latex": [
       "\\begin{tabular}{lll}\n",
       "\t 0.3531292 & 0.4526049 & 0.1942659\\\\\n",
       "\t 0.3403506 & 0.4689712 & 0.1906782\\\\\n",
       "\t 0.3475260 & 0.4597803 & 0.1926936\\\\\n",
       "\\end{tabular}\n"
      ],
      "text/markdown": [
       "\n",
       "| 0.3531292 | 0.4526049 | 0.1942659 |\n",
       "| 0.3403506 | 0.4689712 | 0.1906782 |\n",
       "| 0.3475260 | 0.4597803 | 0.1926936 |\n",
       "\n"
      ],
      "text/plain": [
       "     [,1]      [,2]      [,3]     \n",
       "[1,] 0.3531292 0.4526049 0.1942659\n",
       "[2,] 0.3403506 0.4689712 0.1906782\n",
       "[3,] 0.3475260 0.4597803 0.1926936"
      ]
     },
     "metadata": {},
     "output_type": "display_data"
    },
    {
     "name": "stdout",
     "output_type": "stream",
     "text": [
      "50 Elections in the future: \n"
     ]
    },
    {
     "data": {
      "text/html": [
       "<table>\n",
       "<tbody>\n",
       "\t<tr><td>0.3461538</td><td>0.4615385</td><td>0.1923077</td></tr>\n",
       "\t<tr><td>0.3461538</td><td>0.4615385</td><td>0.1923077</td></tr>\n",
       "\t<tr><td>0.3461538</td><td>0.4615385</td><td>0.1923077</td></tr>\n",
       "</tbody>\n",
       "</table>\n"
      ],
      "text/latex": [
       "\\begin{tabular}{lll}\n",
       "\t 0.3461538 & 0.4615385 & 0.1923077\\\\\n",
       "\t 0.3461538 & 0.4615385 & 0.1923077\\\\\n",
       "\t 0.3461538 & 0.4615385 & 0.1923077\\\\\n",
       "\\end{tabular}\n"
      ],
      "text/markdown": [
       "\n",
       "| 0.3461538 | 0.4615385 | 0.1923077 |\n",
       "| 0.3461538 | 0.4615385 | 0.1923077 |\n",
       "| 0.3461538 | 0.4615385 | 0.1923077 |\n",
       "\n"
      ],
      "text/plain": [
       "     [,1]      [,2]      [,3]     \n",
       "[1,] 0.3461538 0.4615385 0.1923077\n",
       "[2,] 0.3461538 0.4615385 0.1923077\n",
       "[3,] 0.3461538 0.4615385 0.1923077"
      ]
     },
     "metadata": {},
     "output_type": "display_data"
    },
    {
     "name": "stdout",
     "output_type": "stream",
     "text": [
      "100 Elections in the future: \n"
     ]
    },
    {
     "data": {
      "text/html": [
       "<table>\n",
       "<tbody>\n",
       "\t<tr><td>0.3461538</td><td>0.4615385</td><td>0.1923077</td></tr>\n",
       "\t<tr><td>0.3461538</td><td>0.4615385</td><td>0.1923077</td></tr>\n",
       "\t<tr><td>0.3461538</td><td>0.4615385</td><td>0.1923077</td></tr>\n",
       "</tbody>\n",
       "</table>\n"
      ],
      "text/latex": [
       "\\begin{tabular}{lll}\n",
       "\t 0.3461538 & 0.4615385 & 0.1923077\\\\\n",
       "\t 0.3461538 & 0.4615385 & 0.1923077\\\\\n",
       "\t 0.3461538 & 0.4615385 & 0.1923077\\\\\n",
       "\\end{tabular}\n"
      ],
      "text/markdown": [
       "\n",
       "| 0.3461538 | 0.4615385 | 0.1923077 |\n",
       "| 0.3461538 | 0.4615385 | 0.1923077 |\n",
       "| 0.3461538 | 0.4615385 | 0.1923077 |\n",
       "\n"
      ],
      "text/plain": [
       "     [,1]      [,2]      [,3]     \n",
       "[1,] 0.3461538 0.4615385 0.1923077\n",
       "[2,] 0.3461538 0.4615385 0.1923077\n",
       "[3,] 0.3461538 0.4615385 0.1923077"
      ]
     },
     "metadata": {},
     "output_type": "display_data"
    },
    {
     "name": "stdout",
     "output_type": "stream",
     "text": [
      "Steady State Matrix: \n"
     ]
    },
    {
     "data": {
      "text/html": [
       "<table>\n",
       "<tbody>\n",
       "\t<tr><td>0.3462</td><td>0.4615</td><td>0.1923</td></tr>\n",
       "</tbody>\n",
       "</table>\n"
      ],
      "text/latex": [
       "\\begin{tabular}{lll}\n",
       "\t 0.3462 & 0.4615 & 0.1923\\\\\n",
       "\\end{tabular}\n"
      ],
      "text/markdown": [
       "\n",
       "| 0.3462 | 0.4615 | 0.1923 |\n",
       "\n"
      ],
      "text/plain": [
       "     [,1]   [,2]   [,3]  \n",
       "[1,] 0.3462 0.4615 0.1923"
      ]
     },
     "metadata": {},
     "output_type": "display_data"
    }
   ],
   "source": [
    "#function for taking the n power of a transition matrix and printing it\n",
    "future_elections <- function(matrix, n) {\n",
    "    mat_n <- matrix.power(matrix, n)\n",
    "    cat(n, \"Elections in the future: \\n\")\n",
    "    mat_n\n",
    "}\n",
    "\n",
    "future_elections(t_mat,10)\n",
    "\n",
    "future_elections(t_mat,50)\n",
    "\n",
    "future_elections(t_mat,100)\n",
    "\n",
    "steadystate <- matrix(c(0.3462, 0.4615, 0.1923), nrow = 1, byrow = TRUE)\n",
    "                 \n",
    "cat(\"Steady State Matrix: \\n\")\n",
    "steadystate"
   ]
  },
  {
   "cell_type": "markdown",
   "metadata": {},
   "source": [
    "## References\n",
    "\n",
    "https://rpubs.com/JanpuHou/326048\n",
    "\n",
    "http://www.math.bas.bg/~jeni/markov123.pdf\n",
    "\n",
    "https://stephens999.github.io/fiveMinuteStats/simulating_discrete_chains_1.html"
   ]
  }
 ],
 "metadata": {
  "kernelspec": {
   "display_name": "R",
   "language": "R",
   "name": "ir"
  },
  "language_info": {
   "codemirror_mode": "r",
   "file_extension": ".r",
   "mimetype": "text/x-r-source",
   "name": "R",
   "pygments_lexer": "r",
   "version": "3.6.1"
  }
 },
 "nbformat": 4,
 "nbformat_minor": 4
}
